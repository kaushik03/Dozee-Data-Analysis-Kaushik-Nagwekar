{
 "cells": [
  {
   "cell_type": "markdown",
   "metadata": {},
   "source": [
    "# Data Analysis Task - Dozee"
   ]
  },
  {
   "cell_type": "markdown",
   "metadata": {},
   "source": [
    "# Task 1 - Exploratory Data Analysis"
   ]
  },
  {
   "cell_type": "code",
   "execution_count": 1,
   "metadata": {},
   "outputs": [],
   "source": [
    "import pandas as pd\n",
    "%matplotlib inline \n",
    "import matplotlib as mpl\n",
    "import matplotlib.pyplot as plt"
   ]
  },
  {
   "cell_type": "code",
   "execution_count": 2,
   "metadata": {},
   "outputs": [],
   "source": [
    "df_day1 = pd.read_csv(\"E:\\Coursera_Work\\Data Analysis Projects\\Dozee\\Data\\csv_1.csv\",delimiter=',')"
   ]
  },
  {
   "cell_type": "markdown",
   "metadata": {},
   "source": [
    "## Checking features of the data."
   ]
  },
  {
   "cell_type": "code",
   "execution_count": 3,
   "metadata": {},
   "outputs": [
    {
     "data": {
      "text/html": [
       "<div>\n",
       "<style scoped>\n",
       "    .dataframe tbody tr th:only-of-type {\n",
       "        vertical-align: middle;\n",
       "    }\n",
       "\n",
       "    .dataframe tbody tr th {\n",
       "        vertical-align: top;\n",
       "    }\n",
       "\n",
       "    .dataframe thead th {\n",
       "        text-align: right;\n",
       "    }\n",
       "</style>\n",
       "<table border=\"1\" class=\"dataframe\">\n",
       "  <thead>\n",
       "    <tr style=\"text-align: right;\">\n",
       "      <th></th>\n",
       "      <th>TimeStamp</th>\n",
       "      <th>HeartRate</th>\n",
       "      <th>BreathRate</th>\n",
       "    </tr>\n",
       "  </thead>\n",
       "  <tbody>\n",
       "    <tr>\n",
       "      <th>0</th>\n",
       "      <td>1599419501</td>\n",
       "      <td>92.38</td>\n",
       "      <td>10.30</td>\n",
       "    </tr>\n",
       "    <tr>\n",
       "      <th>1</th>\n",
       "      <td>1599419531</td>\n",
       "      <td>92.38</td>\n",
       "      <td>16.97</td>\n",
       "    </tr>\n",
       "    <tr>\n",
       "      <th>2</th>\n",
       "      <td>1599419561</td>\n",
       "      <td>73.50</td>\n",
       "      <td>16.97</td>\n",
       "    </tr>\n",
       "    <tr>\n",
       "      <th>3</th>\n",
       "      <td>1599419591</td>\n",
       "      <td>76.38</td>\n",
       "      <td>16.97</td>\n",
       "    </tr>\n",
       "    <tr>\n",
       "      <th>4</th>\n",
       "      <td>1599419621</td>\n",
       "      <td>58.93</td>\n",
       "      <td>16.97</td>\n",
       "    </tr>\n",
       "  </tbody>\n",
       "</table>\n",
       "</div>"
      ],
      "text/plain": [
       "    TimeStamp  HeartRate  BreathRate\n",
       "0  1599419501      92.38       10.30\n",
       "1  1599419531      92.38       16.97\n",
       "2  1599419561      73.50       16.97\n",
       "3  1599419591      76.38       16.97\n",
       "4  1599419621      58.93       16.97"
      ]
     },
     "execution_count": 3,
     "metadata": {},
     "output_type": "execute_result"
    }
   ],
   "source": [
    "df_day1.head()"
   ]
  },
  {
   "cell_type": "code",
   "execution_count": 4,
   "metadata": {},
   "outputs": [
    {
     "data": {
      "text/plain": [
       "TimeStamp     0\n",
       "HeartRate     0\n",
       "BreathRate    0\n",
       "dtype: int64"
      ]
     },
     "execution_count": 4,
     "metadata": {},
     "output_type": "execute_result"
    }
   ],
   "source": [
    "df_day1.isnull().sum()"
   ]
  },
  {
   "cell_type": "code",
   "execution_count": 5,
   "metadata": {},
   "outputs": [
    {
     "data": {
      "text/plain": [
       "(984, 3)"
      ]
     },
     "execution_count": 5,
     "metadata": {},
     "output_type": "execute_result"
    }
   ],
   "source": [
    "df_day1.shape"
   ]
  },
  {
   "cell_type": "code",
   "execution_count": 6,
   "metadata": {},
   "outputs": [
    {
     "data": {
      "text/plain": [
       "TimeStamp       int64\n",
       "HeartRate     float64\n",
       "BreathRate    float64\n",
       "dtype: object"
      ]
     },
     "execution_count": 6,
     "metadata": {},
     "output_type": "execute_result"
    }
   ],
   "source": [
    "df_day1.dtypes"
   ]
  },
  {
   "cell_type": "code",
   "execution_count": 7,
   "metadata": {},
   "outputs": [
    {
     "data": {
      "text/html": [
       "<div>\n",
       "<style scoped>\n",
       "    .dataframe tbody tr th:only-of-type {\n",
       "        vertical-align: middle;\n",
       "    }\n",
       "\n",
       "    .dataframe tbody tr th {\n",
       "        vertical-align: top;\n",
       "    }\n",
       "\n",
       "    .dataframe thead th {\n",
       "        text-align: right;\n",
       "    }\n",
       "</style>\n",
       "<table border=\"1\" class=\"dataframe\">\n",
       "  <thead>\n",
       "    <tr style=\"text-align: right;\">\n",
       "      <th></th>\n",
       "      <th>TimeStamp</th>\n",
       "      <th>HeartRate</th>\n",
       "      <th>BreathRate</th>\n",
       "    </tr>\n",
       "  </thead>\n",
       "  <tbody>\n",
       "    <tr>\n",
       "      <th>0</th>\n",
       "      <td>2020-09-06 19:11:41</td>\n",
       "      <td>92.38</td>\n",
       "      <td>10.30</td>\n",
       "    </tr>\n",
       "    <tr>\n",
       "      <th>1</th>\n",
       "      <td>2020-09-06 19:12:11</td>\n",
       "      <td>92.38</td>\n",
       "      <td>16.97</td>\n",
       "    </tr>\n",
       "    <tr>\n",
       "      <th>2</th>\n",
       "      <td>2020-09-06 19:12:41</td>\n",
       "      <td>73.50</td>\n",
       "      <td>16.97</td>\n",
       "    </tr>\n",
       "    <tr>\n",
       "      <th>3</th>\n",
       "      <td>2020-09-06 19:13:11</td>\n",
       "      <td>76.38</td>\n",
       "      <td>16.97</td>\n",
       "    </tr>\n",
       "    <tr>\n",
       "      <th>4</th>\n",
       "      <td>2020-09-06 19:13:41</td>\n",
       "      <td>58.93</td>\n",
       "      <td>16.97</td>\n",
       "    </tr>\n",
       "  </tbody>\n",
       "</table>\n",
       "</div>"
      ],
      "text/plain": [
       "            TimeStamp  HeartRate  BreathRate\n",
       "0 2020-09-06 19:11:41      92.38       10.30\n",
       "1 2020-09-06 19:12:11      92.38       16.97\n",
       "2 2020-09-06 19:12:41      73.50       16.97\n",
       "3 2020-09-06 19:13:11      76.38       16.97\n",
       "4 2020-09-06 19:13:41      58.93       16.97"
      ]
     },
     "execution_count": 7,
     "metadata": {},
     "output_type": "execute_result"
    }
   ],
   "source": [
    "df_day1['TimeStamp'] = df_day1[\"TimeStamp\"].astype(float)\n",
    "\n",
    "df_day1['TimeStamp']= pd.to_datetime(df_day1['TimeStamp'],unit='s')\n",
    "\n",
    "df_day1.head()"
   ]
  },
  {
   "cell_type": "code",
   "execution_count": 8,
   "metadata": {},
   "outputs": [
    {
     "data": {
      "text/html": [
       "<div>\n",
       "<style scoped>\n",
       "    .dataframe tbody tr th:only-of-type {\n",
       "        vertical-align: middle;\n",
       "    }\n",
       "\n",
       "    .dataframe tbody tr th {\n",
       "        vertical-align: top;\n",
       "    }\n",
       "\n",
       "    .dataframe thead th {\n",
       "        text-align: right;\n",
       "    }\n",
       "</style>\n",
       "<table border=\"1\" class=\"dataframe\">\n",
       "  <thead>\n",
       "    <tr style=\"text-align: right;\">\n",
       "      <th></th>\n",
       "      <th>TimeStamp</th>\n",
       "      <th>HeartRate</th>\n",
       "      <th>BreathRate</th>\n",
       "      <th>date</th>\n",
       "      <th>time</th>\n",
       "    </tr>\n",
       "  </thead>\n",
       "  <tbody>\n",
       "    <tr>\n",
       "      <th>0</th>\n",
       "      <td>2020-09-06 19:11:41</td>\n",
       "      <td>92.38</td>\n",
       "      <td>10.30</td>\n",
       "      <td>2020-09-06</td>\n",
       "      <td>19:11:41</td>\n",
       "    </tr>\n",
       "    <tr>\n",
       "      <th>1</th>\n",
       "      <td>2020-09-06 19:12:11</td>\n",
       "      <td>92.38</td>\n",
       "      <td>16.97</td>\n",
       "      <td>2020-09-06</td>\n",
       "      <td>19:12:11</td>\n",
       "    </tr>\n",
       "    <tr>\n",
       "      <th>2</th>\n",
       "      <td>2020-09-06 19:12:41</td>\n",
       "      <td>73.50</td>\n",
       "      <td>16.97</td>\n",
       "      <td>2020-09-06</td>\n",
       "      <td>19:12:41</td>\n",
       "    </tr>\n",
       "    <tr>\n",
       "      <th>3</th>\n",
       "      <td>2020-09-06 19:13:11</td>\n",
       "      <td>76.38</td>\n",
       "      <td>16.97</td>\n",
       "      <td>2020-09-06</td>\n",
       "      <td>19:13:11</td>\n",
       "    </tr>\n",
       "    <tr>\n",
       "      <th>4</th>\n",
       "      <td>2020-09-06 19:13:41</td>\n",
       "      <td>58.93</td>\n",
       "      <td>16.97</td>\n",
       "      <td>2020-09-06</td>\n",
       "      <td>19:13:41</td>\n",
       "    </tr>\n",
       "  </tbody>\n",
       "</table>\n",
       "</div>"
      ],
      "text/plain": [
       "            TimeStamp  HeartRate  BreathRate        date      time\n",
       "0 2020-09-06 19:11:41      92.38       10.30  2020-09-06  19:11:41\n",
       "1 2020-09-06 19:12:11      92.38       16.97  2020-09-06  19:12:11\n",
       "2 2020-09-06 19:12:41      73.50       16.97  2020-09-06  19:12:41\n",
       "3 2020-09-06 19:13:11      76.38       16.97  2020-09-06  19:13:11\n",
       "4 2020-09-06 19:13:41      58.93       16.97  2020-09-06  19:13:41"
      ]
     },
     "execution_count": 8,
     "metadata": {},
     "output_type": "execute_result"
    }
   ],
   "source": [
    "df_day1['date'] = [d.date() for d in df_day1['TimeStamp']]\n",
    "df_day1['time'] = [d.time() for d in df_day1['TimeStamp']]\n",
    "\n",
    "df_day1.head()"
   ]
  },
  {
   "cell_type": "code",
   "execution_count": 9,
   "metadata": {},
   "outputs": [
    {
     "data": {
      "text/plain": [
       "TimeStamp\n",
       "2020-09-06 19:00:00    6684.80\n",
       "2020-09-06 20:00:00    6782.12\n",
       "2020-09-06 21:00:00    6677.35\n",
       "2020-09-06 22:00:00    6803.72\n",
       "2020-09-06 23:00:00    6428.37\n",
       "Freq: H, Name: HeartRate, dtype: float64"
      ]
     },
     "execution_count": 9,
     "metadata": {},
     "output_type": "execute_result"
    }
   ],
   "source": [
    "hr = df_day1.resample('H',on = 'TimeStamp',).HeartRate.sum()\n",
    "hr.head()"
   ]
  },
  {
   "cell_type": "code",
   "execution_count": 10,
   "metadata": {},
   "outputs": [],
   "source": [
    "# Aggregating heartbeat according to hour windows (Non-overlapping)"
   ]
  },
  {
   "cell_type": "code",
   "execution_count": 11,
   "metadata": {},
   "outputs": [
    {
     "data": {
      "text/plain": [
       "9"
      ]
     },
     "execution_count": 11,
     "metadata": {},
     "output_type": "execute_result"
    }
   ],
   "source": [
    "hr.count()"
   ]
  },
  {
   "cell_type": "code",
   "execution_count": 12,
   "metadata": {},
   "outputs": [
    {
     "data": {
      "text/plain": [
       "TimeStamp\n",
       "2020-09-06 19:00:00    1448.95\n",
       "2020-09-06 20:00:00    1915.24\n",
       "2020-09-06 21:00:00    2145.99\n",
       "2020-09-06 22:00:00    1748.10\n",
       "2020-09-06 23:00:00    2092.50\n",
       "Freq: H, Name: BreathRate, dtype: float64"
      ]
     },
     "execution_count": 12,
     "metadata": {},
     "output_type": "execute_result"
    }
   ],
   "source": [
    "br = df_day1.resample('H',on = 'TimeStamp',).BreathRate.sum()\n",
    "\n",
    "br.head()"
   ]
  },
  {
   "cell_type": "code",
   "execution_count": 13,
   "metadata": {},
   "outputs": [
    {
     "data": {
      "text/plain": [
       "9"
      ]
     },
     "execution_count": 13,
     "metadata": {},
     "output_type": "execute_result"
    }
   ],
   "source": [
    "br.count()"
   ]
  },
  {
   "cell_type": "code",
   "execution_count": 14,
   "metadata": {},
   "outputs": [
    {
     "data": {
      "text/plain": [
       "<matplotlib.axes._subplots.AxesSubplot at 0x1d4edc5f6d0>"
      ]
     },
     "execution_count": 14,
     "metadata": {},
     "output_type": "execute_result"
    },
    {
     "data": {
      "image/png": "[encoded data removed]",
      "text/plain": [
       "<Figure size 432x288 with 1 Axes>"
      ]
     },
     "metadata": {
      "needs_background": "light"
     },
     "output_type": "display_data"
    }
   ],
   "source": [
    "hr.plot.bar()"
   ]
  },
  {
   "cell_type": "code",
   "execution_count": 15,
   "metadata": {},
   "outputs": [
    {
     "data": {
      "text/plain": [
       "<matplotlib.axes._subplots.AxesSubplot at 0x1d4edd285e0>"
      ]
     },
     "execution_count": 15,
     "metadata": {},
     "output_type": "execute_result"
    },
    {
     "data": {
      "image/png": "[encoded data removed]",
      "text/plain": [
       "<Figure size 432x288 with 1 Axes>"
      ]
     },
     "metadata": {
      "needs_background": "light"
     },
     "output_type": "display_data"
    }
   ],
   "source": [
    "br.plot.bar()"
   ]
  },
  {
   "cell_type": "markdown",
   "metadata": {},
   "source": [
    "## CSV 2"
   ]
  },
  {
   "cell_type": "code",
   "execution_count": 16,
   "metadata": {},
   "outputs": [],
   "source": [
    "df_day2 = pd.read_csv(\"E:\\Coursera_Work\\Data Analysis Projects\\Dozee\\Data\\csv_2.csv\",delimiter=',')"
   ]
  },
  {
   "cell_type": "code",
   "execution_count": 17,
   "metadata": {},
   "outputs": [
    {
     "data": {
      "text/html": [
       "<div>\n",
       "<style scoped>\n",
       "    .dataframe tbody tr th:only-of-type {\n",
       "        vertical-align: middle;\n",
       "    }\n",
       "\n",
       "    .dataframe tbody tr th {\n",
       "        vertical-align: top;\n",
       "    }\n",
       "\n",
       "    .dataframe thead th {\n",
       "        text-align: right;\n",
       "    }\n",
       "</style>\n",
       "<table border=\"1\" class=\"dataframe\">\n",
       "  <thead>\n",
       "    <tr style=\"text-align: right;\">\n",
       "      <th></th>\n",
       "      <th>TimeStamp</th>\n",
       "      <th>HeartRate</th>\n",
       "      <th>BreathRate</th>\n",
       "    </tr>\n",
       "  </thead>\n",
       "  <tbody>\n",
       "    <tr>\n",
       "      <th>0</th>\n",
       "      <td>1599672348</td>\n",
       "      <td>77.21</td>\n",
       "      <td>20.27</td>\n",
       "    </tr>\n",
       "    <tr>\n",
       "      <th>1</th>\n",
       "      <td>1599672378</td>\n",
       "      <td>74.43</td>\n",
       "      <td>17.02</td>\n",
       "    </tr>\n",
       "    <tr>\n",
       "      <th>2</th>\n",
       "      <td>1599672408</td>\n",
       "      <td>72.34</td>\n",
       "      <td>14.27</td>\n",
       "    </tr>\n",
       "    <tr>\n",
       "      <th>3</th>\n",
       "      <td>1599672438</td>\n",
       "      <td>72.34</td>\n",
       "      <td>14.27</td>\n",
       "    </tr>\n",
       "    <tr>\n",
       "      <th>4</th>\n",
       "      <td>1599672468</td>\n",
       "      <td>74.82</td>\n",
       "      <td>14.27</td>\n",
       "    </tr>\n",
       "  </tbody>\n",
       "</table>\n",
       "</div>"
      ],
      "text/plain": [
       "    TimeStamp  HeartRate  BreathRate\n",
       "0  1599672348      77.21       20.27\n",
       "1  1599672378      74.43       17.02\n",
       "2  1599672408      72.34       14.27\n",
       "3  1599672438      72.34       14.27\n",
       "4  1599672468      74.82       14.27"
      ]
     },
     "execution_count": 17,
     "metadata": {},
     "output_type": "execute_result"
    }
   ],
   "source": [
    "df_day2.head()"
   ]
  },
  {
   "cell_type": "code",
   "execution_count": 18,
   "metadata": {},
   "outputs": [
    {
     "data": {
      "text/plain": [
       "TimeStamp     0\n",
       "HeartRate     0\n",
       "BreathRate    0\n",
       "dtype: int64"
      ]
     },
     "execution_count": 18,
     "metadata": {},
     "output_type": "execute_result"
    }
   ],
   "source": [
    "df_day2.isnull().sum()"
   ]
  },
  {
   "cell_type": "code",
   "execution_count": 19,
   "metadata": {},
   "outputs": [
    {
     "data": {
      "text/html": [
       "<div>\n",
       "<style scoped>\n",
       "    .dataframe tbody tr th:only-of-type {\n",
       "        vertical-align: middle;\n",
       "    }\n",
       "\n",
       "    .dataframe tbody tr th {\n",
       "        vertical-align: top;\n",
       "    }\n",
       "\n",
       "    .dataframe thead th {\n",
       "        text-align: right;\n",
       "    }\n",
       "</style>\n",
       "<table border=\"1\" class=\"dataframe\">\n",
       "  <thead>\n",
       "    <tr style=\"text-align: right;\">\n",
       "      <th></th>\n",
       "      <th>TimeStamp</th>\n",
       "      <th>HeartRate</th>\n",
       "      <th>BreathRate</th>\n",
       "    </tr>\n",
       "  </thead>\n",
       "  <tbody>\n",
       "    <tr>\n",
       "      <th>0</th>\n",
       "      <td>2020-09-09 17:25:48</td>\n",
       "      <td>77.21</td>\n",
       "      <td>20.27</td>\n",
       "    </tr>\n",
       "    <tr>\n",
       "      <th>1</th>\n",
       "      <td>2020-09-09 17:26:18</td>\n",
       "      <td>74.43</td>\n",
       "      <td>17.02</td>\n",
       "    </tr>\n",
       "    <tr>\n",
       "      <th>2</th>\n",
       "      <td>2020-09-09 17:26:48</td>\n",
       "      <td>72.34</td>\n",
       "      <td>14.27</td>\n",
       "    </tr>\n",
       "    <tr>\n",
       "      <th>3</th>\n",
       "      <td>2020-09-09 17:27:18</td>\n",
       "      <td>72.34</td>\n",
       "      <td>14.27</td>\n",
       "    </tr>\n",
       "    <tr>\n",
       "      <th>4</th>\n",
       "      <td>2020-09-09 17:27:48</td>\n",
       "      <td>74.82</td>\n",
       "      <td>14.27</td>\n",
       "    </tr>\n",
       "  </tbody>\n",
       "</table>\n",
       "</div>"
      ],
      "text/plain": [
       "            TimeStamp  HeartRate  BreathRate\n",
       "0 2020-09-09 17:25:48      77.21       20.27\n",
       "1 2020-09-09 17:26:18      74.43       17.02\n",
       "2 2020-09-09 17:26:48      72.34       14.27\n",
       "3 2020-09-09 17:27:18      72.34       14.27\n",
       "4 2020-09-09 17:27:48      74.82       14.27"
      ]
     },
     "execution_count": 19,
     "metadata": {},
     "output_type": "execute_result"
    }
   ],
   "source": [
    "df_day2['TimeStamp'] = df_day2[\"TimeStamp\"].astype(float)\n",
    "df_day2['TimeStamp']= pd.to_datetime(df_day2['TimeStamp'],unit='s')\n",
    "df_day2.head()"
   ]
  },
  {
   "cell_type": "code",
   "execution_count": 20,
   "metadata": {},
   "outputs": [
    {
     "data": {
      "text/html": [
       "<div>\n",
       "<style scoped>\n",
       "    .dataframe tbody tr th:only-of-type {\n",
       "        vertical-align: middle;\n",
       "    }\n",
       "\n",
       "    .dataframe tbody tr th {\n",
       "        vertical-align: top;\n",
       "    }\n",
       "\n",
       "    .dataframe thead th {\n",
       "        text-align: right;\n",
       "    }\n",
       "</style>\n",
       "<table border=\"1\" class=\"dataframe\">\n",
       "  <thead>\n",
       "    <tr style=\"text-align: right;\">\n",
       "      <th></th>\n",
       "      <th>TimeStamp</th>\n",
       "      <th>HeartRate</th>\n",
       "      <th>BreathRate</th>\n",
       "      <th>date</th>\n",
       "      <th>time</th>\n",
       "    </tr>\n",
       "  </thead>\n",
       "  <tbody>\n",
       "    <tr>\n",
       "      <th>0</th>\n",
       "      <td>2020-09-09 17:25:48</td>\n",
       "      <td>77.21</td>\n",
       "      <td>20.27</td>\n",
       "      <td>2020-09-09</td>\n",
       "      <td>17:25:48</td>\n",
       "    </tr>\n",
       "    <tr>\n",
       "      <th>1</th>\n",
       "      <td>2020-09-09 17:26:18</td>\n",
       "      <td>74.43</td>\n",
       "      <td>17.02</td>\n",
       "      <td>2020-09-09</td>\n",
       "      <td>17:26:18</td>\n",
       "    </tr>\n",
       "    <tr>\n",
       "      <th>2</th>\n",
       "      <td>2020-09-09 17:26:48</td>\n",
       "      <td>72.34</td>\n",
       "      <td>14.27</td>\n",
       "      <td>2020-09-09</td>\n",
       "      <td>17:26:48</td>\n",
       "    </tr>\n",
       "    <tr>\n",
       "      <th>3</th>\n",
       "      <td>2020-09-09 17:27:18</td>\n",
       "      <td>72.34</td>\n",
       "      <td>14.27</td>\n",
       "      <td>2020-09-09</td>\n",
       "      <td>17:27:18</td>\n",
       "    </tr>\n",
       "    <tr>\n",
       "      <th>4</th>\n",
       "      <td>2020-09-09 17:27:48</td>\n",
       "      <td>74.82</td>\n",
       "      <td>14.27</td>\n",
       "      <td>2020-09-09</td>\n",
       "      <td>17:27:48</td>\n",
       "    </tr>\n",
       "  </tbody>\n",
       "</table>\n",
       "</div>"
      ],
      "text/plain": [
       "            TimeStamp  HeartRate  BreathRate        date      time\n",
       "0 2020-09-09 17:25:48      77.21       20.27  2020-09-09  17:25:48\n",
       "1 2020-09-09 17:26:18      74.43       17.02  2020-09-09  17:26:18\n",
       "2 2020-09-09 17:26:48      72.34       14.27  2020-09-09  17:26:48\n",
       "3 2020-09-09 17:27:18      72.34       14.27  2020-09-09  17:27:18\n",
       "4 2020-09-09 17:27:48      74.82       14.27  2020-09-09  17:27:48"
      ]
     },
     "execution_count": 20,
     "metadata": {},
     "output_type": "execute_result"
    }
   ],
   "source": [
    "df_day2['date'] = [d.date() for d in df_day2['TimeStamp']]\n",
    "df_day2['time'] = [d.time() for d in df_day2['TimeStamp']]\n",
    "df_day2.head()"
   ]
  },
  {
   "cell_type": "code",
   "execution_count": 21,
   "metadata": {},
   "outputs": [],
   "source": [
    "hr = df_day2.resample('H',on = 'TimeStamp').HeartRate.sum()\n",
    "br = df_day2.resample('H',on = 'TimeStamp',).BreathRate.sum()"
   ]
  },
  {
   "cell_type": "code",
   "execution_count": 22,
   "metadata": {},
   "outputs": [
    {
     "data": {
      "text/plain": [
       "TimeStamp\n",
       "2020-09-09 17:00:00    4857.12\n",
       "2020-09-09 18:00:00    7799.26\n",
       "2020-09-09 19:00:00    7467.19\n",
       "2020-09-09 20:00:00    7212.32\n",
       "2020-09-09 21:00:00    6843.33\n",
       "Freq: H, Name: HeartRate, dtype: float64"
      ]
     },
     "execution_count": 22,
     "metadata": {},
     "output_type": "execute_result"
    }
   ],
   "source": [
    "hr.head()"
   ]
  },
  {
   "cell_type": "code",
   "execution_count": 23,
   "metadata": {},
   "outputs": [
    {
     "data": {
      "text/plain": [
       "TimeStamp\n",
       "2020-09-09 17:00:00    1025.82\n",
       "2020-09-09 18:00:00    1881.32\n",
       "2020-09-09 19:00:00    1883.04\n",
       "2020-09-09 20:00:00    1967.39\n",
       "2020-09-09 21:00:00    1851.40\n",
       "Freq: H, Name: BreathRate, dtype: float64"
      ]
     },
     "execution_count": 23,
     "metadata": {},
     "output_type": "execute_result"
    }
   ],
   "source": [
    "br.head()"
   ]
  },
  {
   "cell_type": "code",
   "execution_count": 24,
   "metadata": {},
   "outputs": [
    {
     "name": "stdout",
     "output_type": "stream",
     "text": [
      "9\n",
      "9\n"
     ]
    }
   ],
   "source": [
    "print(hr.count())\n",
    "print(br.count())"
   ]
  },
  {
   "cell_type": "code",
   "execution_count": 25,
   "metadata": {},
   "outputs": [
    {
     "data": {
      "text/plain": [
       "<matplotlib.axes._subplots.AxesSubplot at 0x1d4eddbef10>"
      ]
     },
     "execution_count": 25,
     "metadata": {},
     "output_type": "execute_result"
    },
    {
     "data": {
      "image/png": "[encoded data removed]",
      "text/plain": [
       "<Figure size 432x288 with 1 Axes>"
      ]
     },
     "metadata": {
      "needs_background": "light"
     },
     "output_type": "display_data"
    }
   ],
   "source": [
    "hr.plot.bar()"
   ]
  },
  {
   "cell_type": "code",
   "execution_count": 26,
   "metadata": {},
   "outputs": [
    {
     "data": {
      "text/plain": [
       "<matplotlib.axes._subplots.AxesSubplot at 0x1d4eddc57c0>"
      ]
     },
     "execution_count": 26,
     "metadata": {},
     "output_type": "execute_result"
    },
    {
     "data": {
      "image/png": "[encoded data removed]",
      "text/plain": [
       "<Figure size 432x288 with 1 Axes>"
      ]
     },
     "metadata": {
      "needs_background": "light"
     },
     "output_type": "display_data"
    }
   ],
   "source": [
    "br.plot.bar()"
   ]
  },
  {
   "cell_type": "markdown",
   "metadata": {},
   "source": [
    "## CSV 3"
   ]
  },
  {
   "cell_type": "code",
   "execution_count": 27,
   "metadata": {},
   "outputs": [],
   "source": [
    "df_day3 = pd.read_csv(\"E:\\Coursera_Work\\Data Analysis Projects\\Dozee\\Data\\csv_3.csv\",delimiter=',')"
   ]
  },
  {
   "cell_type": "code",
   "execution_count": 28,
   "metadata": {},
   "outputs": [
    {
     "data": {
      "text/html": [
       "<div>\n",
       "<style scoped>\n",
       "    .dataframe tbody tr th:only-of-type {\n",
       "        vertical-align: middle;\n",
       "    }\n",
       "\n",
       "    .dataframe tbody tr th {\n",
       "        vertical-align: top;\n",
       "    }\n",
       "\n",
       "    .dataframe thead th {\n",
       "        text-align: right;\n",
       "    }\n",
       "</style>\n",
       "<table border=\"1\" class=\"dataframe\">\n",
       "  <thead>\n",
       "    <tr style=\"text-align: right;\">\n",
       "      <th></th>\n",
       "      <th>TimeStamp</th>\n",
       "      <th>HeartRate</th>\n",
       "      <th>BreathRate</th>\n",
       "    </tr>\n",
       "  </thead>\n",
       "  <tbody>\n",
       "    <tr>\n",
       "      <th>0</th>\n",
       "      <td>1603469614</td>\n",
       "      <td>74.68</td>\n",
       "      <td>9.80</td>\n",
       "    </tr>\n",
       "    <tr>\n",
       "      <th>1</th>\n",
       "      <td>1603469644</td>\n",
       "      <td>61.64</td>\n",
       "      <td>9.92</td>\n",
       "    </tr>\n",
       "    <tr>\n",
       "      <th>2</th>\n",
       "      <td>1603469674</td>\n",
       "      <td>69.17</td>\n",
       "      <td>9.92</td>\n",
       "    </tr>\n",
       "    <tr>\n",
       "      <th>3</th>\n",
       "      <td>1603469704</td>\n",
       "      <td>85.65</td>\n",
       "      <td>9.92</td>\n",
       "    </tr>\n",
       "    <tr>\n",
       "      <th>4</th>\n",
       "      <td>1603469734</td>\n",
       "      <td>57.59</td>\n",
       "      <td>9.92</td>\n",
       "    </tr>\n",
       "  </tbody>\n",
       "</table>\n",
       "</div>"
      ],
      "text/plain": [
       "    TimeStamp  HeartRate  BreathRate\n",
       "0  1603469614      74.68        9.80\n",
       "1  1603469644      61.64        9.92\n",
       "2  1603469674      69.17        9.92\n",
       "3  1603469704      85.65        9.92\n",
       "4  1603469734      57.59        9.92"
      ]
     },
     "execution_count": 28,
     "metadata": {},
     "output_type": "execute_result"
    }
   ],
   "source": [
    "df_day3.head()"
   ]
  },
  {
   "cell_type": "code",
   "execution_count": 29,
   "metadata": {},
   "outputs": [
    {
     "data": {
      "text/plain": [
       "TimeStamp     0\n",
       "HeartRate     0\n",
       "BreathRate    0\n",
       "dtype: int64"
      ]
     },
     "execution_count": 29,
     "metadata": {},
     "output_type": "execute_result"
    }
   ],
   "source": [
    "df_day3.isnull().sum()\n"
   ]
  },
  {
   "cell_type": "code",
   "execution_count": 30,
   "metadata": {},
   "outputs": [
    {
     "data": {
      "text/html": [
       "<div>\n",
       "<style scoped>\n",
       "    .dataframe tbody tr th:only-of-type {\n",
       "        vertical-align: middle;\n",
       "    }\n",
       "\n",
       "    .dataframe tbody tr th {\n",
       "        vertical-align: top;\n",
       "    }\n",
       "\n",
       "    .dataframe thead th {\n",
       "        text-align: right;\n",
       "    }\n",
       "</style>\n",
       "<table border=\"1\" class=\"dataframe\">\n",
       "  <thead>\n",
       "    <tr style=\"text-align: right;\">\n",
       "      <th></th>\n",
       "      <th>TimeStamp</th>\n",
       "      <th>HeartRate</th>\n",
       "      <th>BreathRate</th>\n",
       "    </tr>\n",
       "  </thead>\n",
       "  <tbody>\n",
       "    <tr>\n",
       "      <th>0</th>\n",
       "      <td>2020-10-23 16:13:34</td>\n",
       "      <td>74.68</td>\n",
       "      <td>9.80</td>\n",
       "    </tr>\n",
       "    <tr>\n",
       "      <th>1</th>\n",
       "      <td>2020-10-23 16:14:04</td>\n",
       "      <td>61.64</td>\n",
       "      <td>9.92</td>\n",
       "    </tr>\n",
       "    <tr>\n",
       "      <th>2</th>\n",
       "      <td>2020-10-23 16:14:34</td>\n",
       "      <td>69.17</td>\n",
       "      <td>9.92</td>\n",
       "    </tr>\n",
       "    <tr>\n",
       "      <th>3</th>\n",
       "      <td>2020-10-23 16:15:04</td>\n",
       "      <td>85.65</td>\n",
       "      <td>9.92</td>\n",
       "    </tr>\n",
       "    <tr>\n",
       "      <th>4</th>\n",
       "      <td>2020-10-23 16:15:34</td>\n",
       "      <td>57.59</td>\n",
       "      <td>9.92</td>\n",
       "    </tr>\n",
       "  </tbody>\n",
       "</table>\n",
       "</div>"
      ],
      "text/plain": [
       "            TimeStamp  HeartRate  BreathRate\n",
       "0 2020-10-23 16:13:34      74.68        9.80\n",
       "1 2020-10-23 16:14:04      61.64        9.92\n",
       "2 2020-10-23 16:14:34      69.17        9.92\n",
       "3 2020-10-23 16:15:04      85.65        9.92\n",
       "4 2020-10-23 16:15:34      57.59        9.92"
      ]
     },
     "execution_count": 30,
     "metadata": {},
     "output_type": "execute_result"
    }
   ],
   "source": [
    "df_day3['TimeStamp'] = df_day3[\"TimeStamp\"].astype(float)\n",
    "df_day3['TimeStamp']= pd.to_datetime(df_day3['TimeStamp'],unit='s')\n",
    "df_day3.head()"
   ]
  },
  {
   "cell_type": "code",
   "execution_count": 31,
   "metadata": {},
   "outputs": [
    {
     "data": {
      "text/html": [
       "<div>\n",
       "<style scoped>\n",
       "    .dataframe tbody tr th:only-of-type {\n",
       "        vertical-align: middle;\n",
       "    }\n",
       "\n",
       "    .dataframe tbody tr th {\n",
       "        vertical-align: top;\n",
       "    }\n",
       "\n",
       "    .dataframe thead th {\n",
       "        text-align: right;\n",
       "    }\n",
       "</style>\n",
       "<table border=\"1\" class=\"dataframe\">\n",
       "  <thead>\n",
       "    <tr style=\"text-align: right;\">\n",
       "      <th></th>\n",
       "      <th>TimeStamp</th>\n",
       "      <th>HeartRate</th>\n",
       "      <th>BreathRate</th>\n",
       "      <th>date</th>\n",
       "      <th>time</th>\n",
       "    </tr>\n",
       "  </thead>\n",
       "  <tbody>\n",
       "    <tr>\n",
       "      <th>0</th>\n",
       "      <td>2020-10-23 16:13:34</td>\n",
       "      <td>74.68</td>\n",
       "      <td>9.80</td>\n",
       "      <td>2020-10-23</td>\n",
       "      <td>16:13:34</td>\n",
       "    </tr>\n",
       "    <tr>\n",
       "      <th>1</th>\n",
       "      <td>2020-10-23 16:14:04</td>\n",
       "      <td>61.64</td>\n",
       "      <td>9.92</td>\n",
       "      <td>2020-10-23</td>\n",
       "      <td>16:14:04</td>\n",
       "    </tr>\n",
       "    <tr>\n",
       "      <th>2</th>\n",
       "      <td>2020-10-23 16:14:34</td>\n",
       "      <td>69.17</td>\n",
       "      <td>9.92</td>\n",
       "      <td>2020-10-23</td>\n",
       "      <td>16:14:34</td>\n",
       "    </tr>\n",
       "    <tr>\n",
       "      <th>3</th>\n",
       "      <td>2020-10-23 16:15:04</td>\n",
       "      <td>85.65</td>\n",
       "      <td>9.92</td>\n",
       "      <td>2020-10-23</td>\n",
       "      <td>16:15:04</td>\n",
       "    </tr>\n",
       "    <tr>\n",
       "      <th>4</th>\n",
       "      <td>2020-10-23 16:15:34</td>\n",
       "      <td>57.59</td>\n",
       "      <td>9.92</td>\n",
       "      <td>2020-10-23</td>\n",
       "      <td>16:15:34</td>\n",
       "    </tr>\n",
       "  </tbody>\n",
       "</table>\n",
       "</div>"
      ],
      "text/plain": [
       "            TimeStamp  HeartRate  BreathRate        date      time\n",
       "0 2020-10-23 16:13:34      74.68        9.80  2020-10-23  16:13:34\n",
       "1 2020-10-23 16:14:04      61.64        9.92  2020-10-23  16:14:04\n",
       "2 2020-10-23 16:14:34      69.17        9.92  2020-10-23  16:14:34\n",
       "3 2020-10-23 16:15:04      85.65        9.92  2020-10-23  16:15:04\n",
       "4 2020-10-23 16:15:34      57.59        9.92  2020-10-23  16:15:34"
      ]
     },
     "execution_count": 31,
     "metadata": {},
     "output_type": "execute_result"
    }
   ],
   "source": [
    "df_day3['date'] = [d.date() for d in df_day3['TimeStamp']]\n",
    "df_day3['time'] = [d.time() for d in df_day3['TimeStamp']]\n",
    "df_day3.head()"
   ]
  },
  {
   "cell_type": "code",
   "execution_count": 32,
   "metadata": {},
   "outputs": [],
   "source": [
    "hr = df_day3.resample('H',on = 'TimeStamp').HeartRate.sum()\n",
    "br = df_day3.resample('H',on = 'TimeStamp',).BreathRate.sum()"
   ]
  },
  {
   "cell_type": "code",
   "execution_count": 33,
   "metadata": {},
   "outputs": [
    {
     "name": "stdout",
     "output_type": "stream",
     "text": [
      "TimeStamp\n",
      "2020-10-23 16:00:00     6975.88\n",
      "2020-10-23 17:00:00    10860.36\n",
      "2020-10-23 18:00:00    10536.96\n",
      "2020-10-23 19:00:00     8317.03\n",
      "2020-10-23 20:00:00     9930.86\n",
      "Freq: H, Name: HeartRate, dtype: float64\n",
      "TimeStamp\n",
      "2020-10-23 16:00:00    1281.08\n",
      "2020-10-23 17:00:00    2274.58\n",
      "2020-10-23 18:00:00    2263.33\n",
      "2020-10-23 19:00:00    1770.66\n",
      "2020-10-23 20:00:00    2220.71\n",
      "Freq: H, Name: BreathRate, dtype: float64\n"
     ]
    }
   ],
   "source": [
    "print(hr.head())\n",
    "print(br.head())"
   ]
  },
  {
   "cell_type": "code",
   "execution_count": 34,
   "metadata": {},
   "outputs": [
    {
     "name": "stdout",
     "output_type": "stream",
     "text": [
      "9\n",
      "9\n"
     ]
    }
   ],
   "source": [
    "print(hr.count())\n",
    "print(br.count())"
   ]
  },
  {
   "cell_type": "code",
   "execution_count": 35,
   "metadata": {},
   "outputs": [
    {
     "data": {
      "text/plain": [
       "<matplotlib.axes._subplots.AxesSubplot at 0x1d4edea6a30>"
      ]
     },
     "execution_count": 35,
     "metadata": {},
     "output_type": "execute_result"
    },
    {
     "data": {
      "image/png": "[encoded data removed]",
      "text/plain": [
       "<Figure size 432x288 with 1 Axes>"
      ]
     },
     "metadata": {
      "needs_background": "light"
     },
     "output_type": "display_data"
    }
   ],
   "source": [
    "hr.plot.bar()"
   ]
  },
  {
   "cell_type": "code",
   "execution_count": 36,
   "metadata": {},
   "outputs": [
    {
     "data": {
      "text/plain": [
       "<matplotlib.axes._subplots.AxesSubplot at 0x1d4edf07a00>"
      ]
     },
     "execution_count": 36,
     "metadata": {},
     "output_type": "execute_result"
    },
    {
     "data": {
      "image/png": "[encoded data removed]",
      "text/plain": [
       "<Figure size 432x288 with 1 Axes>"
      ]
     },
     "metadata": {
      "needs_background": "light"
     },
     "output_type": "display_data"
    }
   ],
   "source": [
    "br.plot.bar()"
   ]
  },
  {
   "cell_type": "markdown",
   "metadata": {},
   "source": [
    "## CSV 4"
   ]
  },
  {
   "cell_type": "code",
   "execution_count": 37,
   "metadata": {},
   "outputs": [],
   "source": [
    "df_day4 = pd.read_csv(\"E:\\Coursera_Work\\Data Analysis Projects\\Dozee\\Data\\csv_4.csv\",delimiter=',')"
   ]
  },
  {
   "cell_type": "code",
   "execution_count": 38,
   "metadata": {},
   "outputs": [
    {
     "data": {
      "text/html": [
       "<div>\n",
       "<style scoped>\n",
       "    .dataframe tbody tr th:only-of-type {\n",
       "        vertical-align: middle;\n",
       "    }\n",
       "\n",
       "    .dataframe tbody tr th {\n",
       "        vertical-align: top;\n",
       "    }\n",
       "\n",
       "    .dataframe thead th {\n",
       "        text-align: right;\n",
       "    }\n",
       "</style>\n",
       "<table border=\"1\" class=\"dataframe\">\n",
       "  <thead>\n",
       "    <tr style=\"text-align: right;\">\n",
       "      <th></th>\n",
       "      <th>TimeStamp</th>\n",
       "      <th>HeartRate</th>\n",
       "      <th>BreathRate</th>\n",
       "    </tr>\n",
       "  </thead>\n",
       "  <tbody>\n",
       "    <tr>\n",
       "      <th>0</th>\n",
       "      <td>1602181820</td>\n",
       "      <td>101.57</td>\n",
       "      <td>13.70</td>\n",
       "    </tr>\n",
       "    <tr>\n",
       "      <th>1</th>\n",
       "      <td>1602181850</td>\n",
       "      <td>103.04</td>\n",
       "      <td>17.67</td>\n",
       "    </tr>\n",
       "    <tr>\n",
       "      <th>2</th>\n",
       "      <td>1602181880</td>\n",
       "      <td>79.84</td>\n",
       "      <td>17.67</td>\n",
       "    </tr>\n",
       "    <tr>\n",
       "      <th>3</th>\n",
       "      <td>1602181910</td>\n",
       "      <td>106.87</td>\n",
       "      <td>17.67</td>\n",
       "    </tr>\n",
       "    <tr>\n",
       "      <th>4</th>\n",
       "      <td>1602181940</td>\n",
       "      <td>106.21</td>\n",
       "      <td>17.67</td>\n",
       "    </tr>\n",
       "  </tbody>\n",
       "</table>\n",
       "</div>"
      ],
      "text/plain": [
       "    TimeStamp  HeartRate  BreathRate\n",
       "0  1602181820     101.57       13.70\n",
       "1  1602181850     103.04       17.67\n",
       "2  1602181880      79.84       17.67\n",
       "3  1602181910     106.87       17.67\n",
       "4  1602181940     106.21       17.67"
      ]
     },
     "execution_count": 38,
     "metadata": {},
     "output_type": "execute_result"
    }
   ],
   "source": [
    "df_day4.head()"
   ]
  },
  {
   "cell_type": "code",
   "execution_count": 39,
   "metadata": {},
   "outputs": [
    {
     "data": {
      "text/plain": [
       "TimeStamp     0\n",
       "HeartRate     0\n",
       "BreathRate    0\n",
       "dtype: int64"
      ]
     },
     "execution_count": 39,
     "metadata": {},
     "output_type": "execute_result"
    }
   ],
   "source": [
    "df_day4.isnull().sum()"
   ]
  },
  {
   "cell_type": "code",
   "execution_count": 40,
   "metadata": {},
   "outputs": [
    {
     "data": {
      "text/html": [
       "<div>\n",
       "<style scoped>\n",
       "    .dataframe tbody tr th:only-of-type {\n",
       "        vertical-align: middle;\n",
       "    }\n",
       "\n",
       "    .dataframe tbody tr th {\n",
       "        vertical-align: top;\n",
       "    }\n",
       "\n",
       "    .dataframe thead th {\n",
       "        text-align: right;\n",
       "    }\n",
       "</style>\n",
       "<table border=\"1\" class=\"dataframe\">\n",
       "  <thead>\n",
       "    <tr style=\"text-align: right;\">\n",
       "      <th></th>\n",
       "      <th>TimeStamp</th>\n",
       "      <th>HeartRate</th>\n",
       "      <th>BreathRate</th>\n",
       "    </tr>\n",
       "  </thead>\n",
       "  <tbody>\n",
       "    <tr>\n",
       "      <th>0</th>\n",
       "      <td>2020-10-08 18:30:20</td>\n",
       "      <td>101.57</td>\n",
       "      <td>13.70</td>\n",
       "    </tr>\n",
       "    <tr>\n",
       "      <th>1</th>\n",
       "      <td>2020-10-08 18:30:50</td>\n",
       "      <td>103.04</td>\n",
       "      <td>17.67</td>\n",
       "    </tr>\n",
       "    <tr>\n",
       "      <th>2</th>\n",
       "      <td>2020-10-08 18:31:20</td>\n",
       "      <td>79.84</td>\n",
       "      <td>17.67</td>\n",
       "    </tr>\n",
       "    <tr>\n",
       "      <th>3</th>\n",
       "      <td>2020-10-08 18:31:50</td>\n",
       "      <td>106.87</td>\n",
       "      <td>17.67</td>\n",
       "    </tr>\n",
       "    <tr>\n",
       "      <th>4</th>\n",
       "      <td>2020-10-08 18:32:20</td>\n",
       "      <td>106.21</td>\n",
       "      <td>17.67</td>\n",
       "    </tr>\n",
       "  </tbody>\n",
       "</table>\n",
       "</div>"
      ],
      "text/plain": [
       "            TimeStamp  HeartRate  BreathRate\n",
       "0 2020-10-08 18:30:20     101.57       13.70\n",
       "1 2020-10-08 18:30:50     103.04       17.67\n",
       "2 2020-10-08 18:31:20      79.84       17.67\n",
       "3 2020-10-08 18:31:50     106.87       17.67\n",
       "4 2020-10-08 18:32:20     106.21       17.67"
      ]
     },
     "execution_count": 40,
     "metadata": {},
     "output_type": "execute_result"
    }
   ],
   "source": [
    "df_day4['TimeStamp'] = df_day4[\"TimeStamp\"].astype(float)\n",
    "df_day4['TimeStamp']= pd.to_datetime(df_day4['TimeStamp'],unit='s')\n",
    "df_day4.head()"
   ]
  },
  {
   "cell_type": "code",
   "execution_count": 41,
   "metadata": {},
   "outputs": [
    {
     "name": "stdout",
     "output_type": "stream",
     "text": [
      "TimeStamp\n",
      "2020-10-08 18:00:00     5863.09\n",
      "2020-10-08 19:00:00    11813.71\n",
      "2020-10-08 20:00:00    11267.35\n",
      "2020-10-08 21:00:00    10727.42\n",
      "2020-10-08 22:00:00    10120.06\n",
      "Freq: H, Name: HeartRate, dtype: float64\n",
      "TimeStamp\n",
      "2020-10-08 18:00:00    1203.76\n",
      "2020-10-08 19:00:00    1981.95\n",
      "2020-10-08 20:00:00    1939.54\n",
      "2020-10-08 21:00:00    1825.40\n",
      "2020-10-08 22:00:00    1901.36\n",
      "Freq: H, Name: BreathRate, dtype: float64\n"
     ]
    }
   ],
   "source": [
    "hr = df_day4.resample('H',on = 'TimeStamp').HeartRate.sum()\n",
    "br = df_day4.resample('H',on = 'TimeStamp',).BreathRate.sum()\n",
    "print(hr.head())\n",
    "print(br.head())"
   ]
  },
  {
   "cell_type": "code",
   "execution_count": 42,
   "metadata": {},
   "outputs": [
    {
     "name": "stdout",
     "output_type": "stream",
     "text": [
      "7\n",
      "7\n"
     ]
    }
   ],
   "source": [
    "print(hr.count())\n",
    "print(br.count())"
   ]
  },
  {
   "cell_type": "code",
   "execution_count": 43,
   "metadata": {},
   "outputs": [
    {
     "data": {
      "text/plain": [
       "<matplotlib.axes._subplots.AxesSubplot at 0x1d4edf48880>"
      ]
     },
     "execution_count": 43,
     "metadata": {},
     "output_type": "execute_result"
    },
    {
     "data": {
      "image/png": "[encoded data removed]",
      "text/plain": [
       "<Figure size 432x288 with 1 Axes>"
      ]
     },
     "metadata": {
      "needs_background": "light"
     },
     "output_type": "display_data"
    }
   ],
   "source": [
    "hr.plot.bar()"
   ]
  },
  {
   "cell_type": "code",
   "execution_count": 44,
   "metadata": {},
   "outputs": [
    {
     "data": {
      "text/plain": [
       "<matplotlib.axes._subplots.AxesSubplot at 0x1d4eefba070>"
      ]
     },
     "execution_count": 44,
     "metadata": {},
     "output_type": "execute_result"
    },
    {
     "data": {
      "image/png": "[encoded data removed]",
      "text/plain": [
       "<Figure size 432x288 with 1 Axes>"
      ]
     },
     "metadata": {
      "needs_background": "light"
     },
     "output_type": "display_data"
    }
   ],
   "source": [
    "br.plot.bar()"
   ]
  },
  {
   "cell_type": "markdown",
   "metadata": {},
   "source": [
    "## CSV 5 "
   ]
  },
  {
   "cell_type": "code",
   "execution_count": 45,
   "metadata": {},
   "outputs": [],
   "source": [
    "df_day5 = pd.read_csv(\"E:\\Coursera_Work\\Data Analysis Projects\\Dozee\\Data\\csv_5.csv\",delimiter=',')"
   ]
  },
  {
   "cell_type": "code",
   "execution_count": 46,
   "metadata": {},
   "outputs": [
    {
     "data": {
      "text/html": [
       "<div>\n",
       "<style scoped>\n",
       "    .dataframe tbody tr th:only-of-type {\n",
       "        vertical-align: middle;\n",
       "    }\n",
       "\n",
       "    .dataframe tbody tr th {\n",
       "        vertical-align: top;\n",
       "    }\n",
       "\n",
       "    .dataframe thead th {\n",
       "        text-align: right;\n",
       "    }\n",
       "</style>\n",
       "<table border=\"1\" class=\"dataframe\">\n",
       "  <thead>\n",
       "    <tr style=\"text-align: right;\">\n",
       "      <th></th>\n",
       "      <th>TimeStamp</th>\n",
       "      <th>HeartRate</th>\n",
       "      <th>BreathRate</th>\n",
       "    </tr>\n",
       "  </thead>\n",
       "  <tbody>\n",
       "    <tr>\n",
       "      <th>0</th>\n",
       "      <td>1603386328</td>\n",
       "      <td>72.59</td>\n",
       "      <td>17.79</td>\n",
       "    </tr>\n",
       "    <tr>\n",
       "      <th>1</th>\n",
       "      <td>1603386358</td>\n",
       "      <td>72.37</td>\n",
       "      <td>16.99</td>\n",
       "    </tr>\n",
       "    <tr>\n",
       "      <th>2</th>\n",
       "      <td>1603386388</td>\n",
       "      <td>73.49</td>\n",
       "      <td>17.06</td>\n",
       "    </tr>\n",
       "    <tr>\n",
       "      <th>3</th>\n",
       "      <td>1603386418</td>\n",
       "      <td>73.20</td>\n",
       "      <td>17.58</td>\n",
       "    </tr>\n",
       "    <tr>\n",
       "      <th>4</th>\n",
       "      <td>1603386448</td>\n",
       "      <td>74.86</td>\n",
       "      <td>17.54</td>\n",
       "    </tr>\n",
       "  </tbody>\n",
       "</table>\n",
       "</div>"
      ],
      "text/plain": [
       "    TimeStamp  HeartRate  BreathRate\n",
       "0  1603386328      72.59       17.79\n",
       "1  1603386358      72.37       16.99\n",
       "2  1603386388      73.49       17.06\n",
       "3  1603386418      73.20       17.58\n",
       "4  1603386448      74.86       17.54"
      ]
     },
     "execution_count": 46,
     "metadata": {},
     "output_type": "execute_result"
    }
   ],
   "source": [
    "df_day5.head()"
   ]
  },
  {
   "cell_type": "code",
   "execution_count": 47,
   "metadata": {},
   "outputs": [
    {
     "data": {
      "text/plain": [
       "TimeStamp     0\n",
       "HeartRate     0\n",
       "BreathRate    0\n",
       "dtype: int64"
      ]
     },
     "execution_count": 47,
     "metadata": {},
     "output_type": "execute_result"
    }
   ],
   "source": [
    "df_day5.isnull().sum()"
   ]
  },
  {
   "cell_type": "code",
   "execution_count": 48,
   "metadata": {},
   "outputs": [
    {
     "data": {
      "text/html": [
       "<div>\n",
       "<style scoped>\n",
       "    .dataframe tbody tr th:only-of-type {\n",
       "        vertical-align: middle;\n",
       "    }\n",
       "\n",
       "    .dataframe tbody tr th {\n",
       "        vertical-align: top;\n",
       "    }\n",
       "\n",
       "    .dataframe thead th {\n",
       "        text-align: right;\n",
       "    }\n",
       "</style>\n",
       "<table border=\"1\" class=\"dataframe\">\n",
       "  <thead>\n",
       "    <tr style=\"text-align: right;\">\n",
       "      <th></th>\n",
       "      <th>TimeStamp</th>\n",
       "      <th>HeartRate</th>\n",
       "      <th>BreathRate</th>\n",
       "    </tr>\n",
       "  </thead>\n",
       "  <tbody>\n",
       "    <tr>\n",
       "      <th>0</th>\n",
       "      <td>2020-10-22 17:05:28</td>\n",
       "      <td>72.59</td>\n",
       "      <td>17.79</td>\n",
       "    </tr>\n",
       "    <tr>\n",
       "      <th>1</th>\n",
       "      <td>2020-10-22 17:05:58</td>\n",
       "      <td>72.37</td>\n",
       "      <td>16.99</td>\n",
       "    </tr>\n",
       "    <tr>\n",
       "      <th>2</th>\n",
       "      <td>2020-10-22 17:06:28</td>\n",
       "      <td>73.49</td>\n",
       "      <td>17.06</td>\n",
       "    </tr>\n",
       "    <tr>\n",
       "      <th>3</th>\n",
       "      <td>2020-10-22 17:06:58</td>\n",
       "      <td>73.20</td>\n",
       "      <td>17.58</td>\n",
       "    </tr>\n",
       "    <tr>\n",
       "      <th>4</th>\n",
       "      <td>2020-10-22 17:07:28</td>\n",
       "      <td>74.86</td>\n",
       "      <td>17.54</td>\n",
       "    </tr>\n",
       "  </tbody>\n",
       "</table>\n",
       "</div>"
      ],
      "text/plain": [
       "            TimeStamp  HeartRate  BreathRate\n",
       "0 2020-10-22 17:05:28      72.59       17.79\n",
       "1 2020-10-22 17:05:58      72.37       16.99\n",
       "2 2020-10-22 17:06:28      73.49       17.06\n",
       "3 2020-10-22 17:06:58      73.20       17.58\n",
       "4 2020-10-22 17:07:28      74.86       17.54"
      ]
     },
     "execution_count": 48,
     "metadata": {},
     "output_type": "execute_result"
    }
   ],
   "source": [
    "df_day5['TimeStamp'] = df_day5[\"TimeStamp\"].astype(float)\n",
    "df_day5['TimeStamp']= pd.to_datetime(df_day5['TimeStamp'],unit='s')\n",
    "df_day5.head()"
   ]
  },
  {
   "cell_type": "code",
   "execution_count": 49,
   "metadata": {},
   "outputs": [
    {
     "name": "stdout",
     "output_type": "stream",
     "text": [
      "TimeStamp\n",
      "2020-10-08 18:00:00     5863.09\n",
      "2020-10-08 19:00:00    11813.71\n",
      "2020-10-08 20:00:00    11267.35\n",
      "2020-10-08 21:00:00    10727.42\n",
      "2020-10-08 22:00:00    10120.06\n",
      "Freq: H, Name: HeartRate, dtype: float64\n",
      "TimeStamp\n",
      "2020-10-08 18:00:00    1203.76\n",
      "2020-10-08 19:00:00    1981.95\n",
      "2020-10-08 20:00:00    1939.54\n",
      "2020-10-08 21:00:00    1825.40\n",
      "2020-10-08 22:00:00    1901.36\n",
      "Freq: H, Name: BreathRate, dtype: float64\n"
     ]
    }
   ],
   "source": [
    "hr = df_day4.resample('H',on = 'TimeStamp').HeartRate.sum()\n",
    "br = df_day4.resample('H',on = 'TimeStamp',).BreathRate.sum()\n",
    "print(hr.head())\n",
    "print(br.head())"
   ]
  },
  {
   "cell_type": "code",
   "execution_count": 50,
   "metadata": {},
   "outputs": [
    {
     "name": "stdout",
     "output_type": "stream",
     "text": [
      "7\n",
      "7\n"
     ]
    }
   ],
   "source": [
    "print(hr.count())\n",
    "print(br.count())"
   ]
  },
  {
   "cell_type": "code",
   "execution_count": 51,
   "metadata": {},
   "outputs": [
    {
     "data": {
      "text/plain": [
       "<matplotlib.axes._subplots.AxesSubplot at 0x1d4ef02a340>"
      ]
     },
     "execution_count": 51,
     "metadata": {},
     "output_type": "execute_result"
    },
    {
     "data": {
      "image/png": "[encoded data removed]",
      "text/plain": [
       "<Figure size 432x288 with 1 Axes>"
      ]
     },
     "metadata": {
      "needs_background": "light"
     },
     "output_type": "display_data"
    }
   ],
   "source": [
    "hr.plot.bar()"
   ]
  },
  {
   "cell_type": "code",
   "execution_count": 52,
   "metadata": {},
   "outputs": [
    {
     "data": {
      "text/plain": [
       "<matplotlib.axes._subplots.AxesSubplot at 0x1d4ef09ea60>"
      ]
     },
     "execution_count": 52,
     "metadata": {},
     "output_type": "execute_result"
    },
    {
     "data": {
      "image/png": "[encoded data removed]",
      "text/plain": [
       "<Figure size 432x288 with 1 Axes>"
      ]
     },
     "metadata": {
      "needs_background": "light"
     },
     "output_type": "display_data"
    }
   ],
   "source": [
    "br.plot.bar()"
   ]
  },
  {
   "cell_type": "markdown",
   "metadata": {},
   "source": [
    "## Day 6 "
   ]
  },
  {
   "cell_type": "code",
   "execution_count": 53,
   "metadata": {},
   "outputs": [],
   "source": [
    "df_day6 = pd.read_csv(\"E:\\Coursera_Work\\Data Analysis Projects\\Dozee\\Data\\csv_6.csv\",delimiter=',')"
   ]
  },
  {
   "cell_type": "code",
   "execution_count": 54,
   "metadata": {},
   "outputs": [
    {
     "data": {
      "text/html": [
       "<div>\n",
       "<style scoped>\n",
       "    .dataframe tbody tr th:only-of-type {\n",
       "        vertical-align: middle;\n",
       "    }\n",
       "\n",
       "    .dataframe tbody tr th {\n",
       "        vertical-align: top;\n",
       "    }\n",
       "\n",
       "    .dataframe thead th {\n",
       "        text-align: right;\n",
       "    }\n",
       "</style>\n",
       "<table border=\"1\" class=\"dataframe\">\n",
       "  <thead>\n",
       "    <tr style=\"text-align: right;\">\n",
       "      <th></th>\n",
       "      <th>TimeStamp</th>\n",
       "      <th>HeartRate</th>\n",
       "      <th>BreathRate</th>\n",
       "    </tr>\n",
       "  </thead>\n",
       "  <tbody>\n",
       "    <tr>\n",
       "      <th>0</th>\n",
       "      <td>1602607071</td>\n",
       "      <td>62.50</td>\n",
       "      <td>22.80</td>\n",
       "    </tr>\n",
       "    <tr>\n",
       "      <th>1</th>\n",
       "      <td>1602607101</td>\n",
       "      <td>87.57</td>\n",
       "      <td>21.87</td>\n",
       "    </tr>\n",
       "    <tr>\n",
       "      <th>2</th>\n",
       "      <td>1602607131</td>\n",
       "      <td>89.42</td>\n",
       "      <td>21.58</td>\n",
       "    </tr>\n",
       "    <tr>\n",
       "      <th>3</th>\n",
       "      <td>1602607161</td>\n",
       "      <td>86.75</td>\n",
       "      <td>21.58</td>\n",
       "    </tr>\n",
       "    <tr>\n",
       "      <th>4</th>\n",
       "      <td>1602607191</td>\n",
       "      <td>86.75</td>\n",
       "      <td>21.58</td>\n",
       "    </tr>\n",
       "  </tbody>\n",
       "</table>\n",
       "</div>"
      ],
      "text/plain": [
       "    TimeStamp  HeartRate  BreathRate\n",
       "0  1602607071      62.50       22.80\n",
       "1  1602607101      87.57       21.87\n",
       "2  1602607131      89.42       21.58\n",
       "3  1602607161      86.75       21.58\n",
       "4  1602607191      86.75       21.58"
      ]
     },
     "execution_count": 54,
     "metadata": {},
     "output_type": "execute_result"
    }
   ],
   "source": [
    "df_day6.head()"
   ]
  },
  {
   "cell_type": "code",
   "execution_count": 55,
   "metadata": {},
   "outputs": [
    {
     "data": {
      "text/plain": [
       "TimeStamp     0\n",
       "HeartRate     0\n",
       "BreathRate    0\n",
       "dtype: int64"
      ]
     },
     "execution_count": 55,
     "metadata": {},
     "output_type": "execute_result"
    }
   ],
   "source": [
    "df_day6.isnull().sum()"
   ]
  },
  {
   "cell_type": "code",
   "execution_count": 56,
   "metadata": {},
   "outputs": [
    {
     "data": {
      "text/html": [
       "<div>\n",
       "<style scoped>\n",
       "    .dataframe tbody tr th:only-of-type {\n",
       "        vertical-align: middle;\n",
       "    }\n",
       "\n",
       "    .dataframe tbody tr th {\n",
       "        vertical-align: top;\n",
       "    }\n",
       "\n",
       "    .dataframe thead th {\n",
       "        text-align: right;\n",
       "    }\n",
       "</style>\n",
       "<table border=\"1\" class=\"dataframe\">\n",
       "  <thead>\n",
       "    <tr style=\"text-align: right;\">\n",
       "      <th></th>\n",
       "      <th>TimeStamp</th>\n",
       "      <th>HeartRate</th>\n",
       "      <th>BreathRate</th>\n",
       "    </tr>\n",
       "  </thead>\n",
       "  <tbody>\n",
       "    <tr>\n",
       "      <th>0</th>\n",
       "      <td>2020-10-13 16:37:51</td>\n",
       "      <td>62.50</td>\n",
       "      <td>22.80</td>\n",
       "    </tr>\n",
       "    <tr>\n",
       "      <th>1</th>\n",
       "      <td>2020-10-13 16:38:21</td>\n",
       "      <td>87.57</td>\n",
       "      <td>21.87</td>\n",
       "    </tr>\n",
       "    <tr>\n",
       "      <th>2</th>\n",
       "      <td>2020-10-13 16:38:51</td>\n",
       "      <td>89.42</td>\n",
       "      <td>21.58</td>\n",
       "    </tr>\n",
       "    <tr>\n",
       "      <th>3</th>\n",
       "      <td>2020-10-13 16:39:21</td>\n",
       "      <td>86.75</td>\n",
       "      <td>21.58</td>\n",
       "    </tr>\n",
       "    <tr>\n",
       "      <th>4</th>\n",
       "      <td>2020-10-13 16:39:51</td>\n",
       "      <td>86.75</td>\n",
       "      <td>21.58</td>\n",
       "    </tr>\n",
       "  </tbody>\n",
       "</table>\n",
       "</div>"
      ],
      "text/plain": [
       "            TimeStamp  HeartRate  BreathRate\n",
       "0 2020-10-13 16:37:51      62.50       22.80\n",
       "1 2020-10-13 16:38:21      87.57       21.87\n",
       "2 2020-10-13 16:38:51      89.42       21.58\n",
       "3 2020-10-13 16:39:21      86.75       21.58\n",
       "4 2020-10-13 16:39:51      86.75       21.58"
      ]
     },
     "execution_count": 56,
     "metadata": {},
     "output_type": "execute_result"
    }
   ],
   "source": [
    "df_day6['TimeStamp'] = df_day6[\"TimeStamp\"].astype(float)\n",
    "df_day6['TimeStamp']= pd.to_datetime(df_day6['TimeStamp'],unit='s')\n",
    "df_day6.head()"
   ]
  },
  {
   "cell_type": "code",
   "execution_count": 57,
   "metadata": {},
   "outputs": [],
   "source": [
    "hr = df_day6.resample('H',on = 'TimeStamp').HeartRate.sum()\n",
    "br = df_day6.resample('H',on = 'TimeStamp',).BreathRate.sum()"
   ]
  },
  {
   "cell_type": "code",
   "execution_count": 58,
   "metadata": {},
   "outputs": [
    {
     "name": "stdout",
     "output_type": "stream",
     "text": [
      "TimeStamp\n",
      "2020-10-13 16:00:00     3734.64\n",
      "2020-10-13 17:00:00     9752.96\n",
      "2020-10-13 18:00:00     9530.87\n",
      "2020-10-13 19:00:00    10036.58\n",
      "2020-10-13 20:00:00    10207.88\n",
      "Freq: H, Name: HeartRate, dtype: float64\n",
      "TimeStamp\n",
      "2020-10-13 16:00:00     988.88\n",
      "2020-10-13 17:00:00    2318.29\n",
      "2020-10-13 18:00:00    2130.08\n",
      "2020-10-13 19:00:00    1990.57\n",
      "2020-10-13 20:00:00    2067.62\n",
      "Freq: H, Name: BreathRate, dtype: float64\n"
     ]
    }
   ],
   "source": [
    "print(hr.head())\n",
    "print(br.head())"
   ]
  },
  {
   "cell_type": "code",
   "execution_count": 59,
   "metadata": {},
   "outputs": [
    {
     "name": "stdout",
     "output_type": "stream",
     "text": [
      "10 10\n"
     ]
    }
   ],
   "source": [
    "print(hr.count(),br.count())"
   ]
  },
  {
   "cell_type": "code",
   "execution_count": 60,
   "metadata": {},
   "outputs": [
    {
     "data": {
      "text/plain": [
       "<matplotlib.axes._subplots.AxesSubplot at 0x1d4ef10edf0>"
      ]
     },
     "execution_count": 60,
     "metadata": {},
     "output_type": "execute_result"
    },
    {
     "data": {
      "image/png": "[encoded data removed]",
      "text/plain": [
       "<Figure size 432x288 with 1 Axes>"
      ]
     },
     "metadata": {
      "needs_background": "light"
     },
     "output_type": "display_data"
    }
   ],
   "source": [
    "hr.plot.bar()"
   ]
  },
  {
   "cell_type": "code",
   "execution_count": 61,
   "metadata": {},
   "outputs": [
    {
     "data": {
      "text/plain": [
       "<matplotlib.axes._subplots.AxesSubplot at 0x1d4ef1719d0>"
      ]
     },
     "execution_count": 61,
     "metadata": {},
     "output_type": "execute_result"
    },
    {
     "data": {
      "image/png": "[encoded data removed]",
      "text/plain": [
       "<Figure size 432x288 with 1 Axes>"
      ]
     },
     "metadata": {
      "needs_background": "light"
     },
     "output_type": "display_data"
    }
   ],
   "source": [
    "br.plot.bar()"
   ]
  },
  {
   "cell_type": "markdown",
   "metadata": {},
   "source": [
    "## Day 7"
   ]
  },
  {
   "cell_type": "code",
   "execution_count": 62,
   "metadata": {},
   "outputs": [],
   "source": [
    "df_day7 = pd.read_csv(\"E:\\Coursera_Work\\Data Analysis Projects\\Dozee\\Data\\csv_7.csv\",delimiter=',')"
   ]
  },
  {
   "cell_type": "code",
   "execution_count": 63,
   "metadata": {},
   "outputs": [
    {
     "data": {
      "text/html": [
       "<div>\n",
       "<style scoped>\n",
       "    .dataframe tbody tr th:only-of-type {\n",
       "        vertical-align: middle;\n",
       "    }\n",
       "\n",
       "    .dataframe tbody tr th {\n",
       "        vertical-align: top;\n",
       "    }\n",
       "\n",
       "    .dataframe thead th {\n",
       "        text-align: right;\n",
       "    }\n",
       "</style>\n",
       "<table border=\"1\" class=\"dataframe\">\n",
       "  <thead>\n",
       "    <tr style=\"text-align: right;\">\n",
       "      <th></th>\n",
       "      <th>TimeStamp</th>\n",
       "      <th>HeartRate</th>\n",
       "      <th>BreathRate</th>\n",
       "    </tr>\n",
       "  </thead>\n",
       "  <tbody>\n",
       "    <tr>\n",
       "      <th>0</th>\n",
       "      <td>1603640925</td>\n",
       "      <td>75.58</td>\n",
       "      <td>11.35</td>\n",
       "    </tr>\n",
       "    <tr>\n",
       "      <th>1</th>\n",
       "      <td>1603640955</td>\n",
       "      <td>76.44</td>\n",
       "      <td>21.04</td>\n",
       "    </tr>\n",
       "    <tr>\n",
       "      <th>2</th>\n",
       "      <td>1603640985</td>\n",
       "      <td>87.62</td>\n",
       "      <td>11.20</td>\n",
       "    </tr>\n",
       "    <tr>\n",
       "      <th>3</th>\n",
       "      <td>1603641015</td>\n",
       "      <td>87.62</td>\n",
       "      <td>15.32</td>\n",
       "    </tr>\n",
       "    <tr>\n",
       "      <th>4</th>\n",
       "      <td>1603641045</td>\n",
       "      <td>87.62</td>\n",
       "      <td>16.22</td>\n",
       "    </tr>\n",
       "  </tbody>\n",
       "</table>\n",
       "</div>"
      ],
      "text/plain": [
       "    TimeStamp  HeartRate  BreathRate\n",
       "0  1603640925      75.58       11.35\n",
       "1  1603640955      76.44       21.04\n",
       "2  1603640985      87.62       11.20\n",
       "3  1603641015      87.62       15.32\n",
       "4  1603641045      87.62       16.22"
      ]
     },
     "execution_count": 63,
     "metadata": {},
     "output_type": "execute_result"
    }
   ],
   "source": [
    "df_day7.head()"
   ]
  },
  {
   "cell_type": "code",
   "execution_count": 64,
   "metadata": {},
   "outputs": [
    {
     "data": {
      "text/plain": [
       "TimeStamp     0\n",
       "HeartRate     0\n",
       "BreathRate    0\n",
       "dtype: int64"
      ]
     },
     "execution_count": 64,
     "metadata": {},
     "output_type": "execute_result"
    }
   ],
   "source": [
    "df_day7.isnull().sum()"
   ]
  },
  {
   "cell_type": "code",
   "execution_count": 65,
   "metadata": {},
   "outputs": [
    {
     "data": {
      "text/html": [
       "<div>\n",
       "<style scoped>\n",
       "    .dataframe tbody tr th:only-of-type {\n",
       "        vertical-align: middle;\n",
       "    }\n",
       "\n",
       "    .dataframe tbody tr th {\n",
       "        vertical-align: top;\n",
       "    }\n",
       "\n",
       "    .dataframe thead th {\n",
       "        text-align: right;\n",
       "    }\n",
       "</style>\n",
       "<table border=\"1\" class=\"dataframe\">\n",
       "  <thead>\n",
       "    <tr style=\"text-align: right;\">\n",
       "      <th></th>\n",
       "      <th>TimeStamp</th>\n",
       "      <th>HeartRate</th>\n",
       "      <th>BreathRate</th>\n",
       "    </tr>\n",
       "  </thead>\n",
       "  <tbody>\n",
       "    <tr>\n",
       "      <th>0</th>\n",
       "      <td>2020-10-25 15:48:45</td>\n",
       "      <td>75.58</td>\n",
       "      <td>11.35</td>\n",
       "    </tr>\n",
       "    <tr>\n",
       "      <th>1</th>\n",
       "      <td>2020-10-25 15:49:15</td>\n",
       "      <td>76.44</td>\n",
       "      <td>21.04</td>\n",
       "    </tr>\n",
       "    <tr>\n",
       "      <th>2</th>\n",
       "      <td>2020-10-25 15:49:45</td>\n",
       "      <td>87.62</td>\n",
       "      <td>11.20</td>\n",
       "    </tr>\n",
       "    <tr>\n",
       "      <th>3</th>\n",
       "      <td>2020-10-25 15:50:15</td>\n",
       "      <td>87.62</td>\n",
       "      <td>15.32</td>\n",
       "    </tr>\n",
       "    <tr>\n",
       "      <th>4</th>\n",
       "      <td>2020-10-25 15:50:45</td>\n",
       "      <td>87.62</td>\n",
       "      <td>16.22</td>\n",
       "    </tr>\n",
       "  </tbody>\n",
       "</table>\n",
       "</div>"
      ],
      "text/plain": [
       "            TimeStamp  HeartRate  BreathRate\n",
       "0 2020-10-25 15:48:45      75.58       11.35\n",
       "1 2020-10-25 15:49:15      76.44       21.04\n",
       "2 2020-10-25 15:49:45      87.62       11.20\n",
       "3 2020-10-25 15:50:15      87.62       15.32\n",
       "4 2020-10-25 15:50:45      87.62       16.22"
      ]
     },
     "execution_count": 65,
     "metadata": {},
     "output_type": "execute_result"
    }
   ],
   "source": [
    "df_day7['TimeStamp'] = df_day7[\"TimeStamp\"].astype(float)\n",
    "df_day7['TimeStamp']= pd.to_datetime(df_day7['TimeStamp'],unit='s')\n",
    "df_day7.head()"
   ]
  },
  {
   "cell_type": "code",
   "execution_count": 66,
   "metadata": {},
   "outputs": [
    {
     "name": "stdout",
     "output_type": "stream",
     "text": [
      "TimeStamp\n",
      "2020-10-25 15:00:00    1808.67\n",
      "2020-10-25 16:00:00    9048.25\n",
      "2020-10-25 17:00:00    9047.05\n",
      "2020-10-25 18:00:00    9070.61\n",
      "2020-10-25 19:00:00    9092.02\n",
      "Freq: H, Name: HeartRate, dtype: float64\n",
      "TimeStamp\n",
      "2020-10-25 15:00:00     414.13\n",
      "2020-10-25 16:00:00    2173.49\n",
      "2020-10-25 17:00:00    2121.28\n",
      "2020-10-25 18:00:00    2187.68\n",
      "2020-10-25 19:00:00    2062.51\n",
      "Freq: H, Name: BreathRate, dtype: float64\n"
     ]
    }
   ],
   "source": [
    "hr = df_day7.resample('H',on = 'TimeStamp').HeartRate.sum()\n",
    "br = df_day7.resample('H',on = 'TimeStamp',).BreathRate.sum()\n",
    "print(hr.head())\n",
    "print(br.head())"
   ]
  },
  {
   "cell_type": "code",
   "execution_count": 67,
   "metadata": {},
   "outputs": [
    {
     "name": "stdout",
     "output_type": "stream",
     "text": [
      "9 9\n"
     ]
    }
   ],
   "source": [
    "print(hr.count(),br.count())"
   ]
  },
  {
   "cell_type": "code",
   "execution_count": 68,
   "metadata": {},
   "outputs": [
    {
     "data": {
      "text/plain": [
       "<matplotlib.axes._subplots.AxesSubplot at 0x1d4ef1f8c10>"
      ]
     },
     "execution_count": 68,
     "metadata": {},
     "output_type": "execute_result"
    },
    {
     "data": {
      "image/png": "[encoded data removed]",
      "text/plain": [
       "<Figure size 432x288 with 1 Axes>"
      ]
     },
     "metadata": {
      "needs_background": "light"
     },
     "output_type": "display_data"
    }
   ],
   "source": [
    "hr.plot.bar()"
   ]
  },
  {
   "cell_type": "code",
   "execution_count": 69,
   "metadata": {},
   "outputs": [
    {
     "data": {
      "text/plain": [
       "<matplotlib.axes._subplots.AxesSubplot at 0x1d4ef261b80>"
      ]
     },
     "execution_count": 69,
     "metadata": {},
     "output_type": "execute_result"
    },
    {
     "data": {
      "image/png": "[encoded data removed]",
      "text/plain": [
       "<Figure size 432x288 with 1 Axes>"
      ]
     },
     "metadata": {
      "needs_background": "light"
     },
     "output_type": "display_data"
    }
   ],
   "source": [
    "br.plot.bar()"
   ]
  },
  {
   "cell_type": "markdown",
   "metadata": {},
   "source": [
    "## Day 8"
   ]
  },
  {
   "cell_type": "code",
   "execution_count": 70,
   "metadata": {},
   "outputs": [],
   "source": [
    "df_day8 = pd.read_csv(\"E:\\Coursera_Work\\Data Analysis Projects\\Dozee\\Data\\csv_8.csv\",delimiter=',')"
   ]
  },
  {
   "cell_type": "code",
   "execution_count": 71,
   "metadata": {},
   "outputs": [
    {
     "data": {
      "text/html": [
       "<div>\n",
       "<style scoped>\n",
       "    .dataframe tbody tr th:only-of-type {\n",
       "        vertical-align: middle;\n",
       "    }\n",
       "\n",
       "    .dataframe tbody tr th {\n",
       "        vertical-align: top;\n",
       "    }\n",
       "\n",
       "    .dataframe thead th {\n",
       "        text-align: right;\n",
       "    }\n",
       "</style>\n",
       "<table border=\"1\" class=\"dataframe\">\n",
       "  <thead>\n",
       "    <tr style=\"text-align: right;\">\n",
       "      <th></th>\n",
       "      <th>TimeStamp</th>\n",
       "      <th>HeartRate</th>\n",
       "      <th>BreathRate</th>\n",
       "    </tr>\n",
       "  </thead>\n",
       "  <tbody>\n",
       "    <tr>\n",
       "      <th>0</th>\n",
       "      <td>1603649540</td>\n",
       "      <td>46.16</td>\n",
       "      <td>9.53</td>\n",
       "    </tr>\n",
       "    <tr>\n",
       "      <th>1</th>\n",
       "      <td>1603649570</td>\n",
       "      <td>46.16</td>\n",
       "      <td>9.53</td>\n",
       "    </tr>\n",
       "    <tr>\n",
       "      <th>2</th>\n",
       "      <td>1603649600</td>\n",
       "      <td>46.16</td>\n",
       "      <td>9.53</td>\n",
       "    </tr>\n",
       "    <tr>\n",
       "      <th>3</th>\n",
       "      <td>1603649630</td>\n",
       "      <td>46.16</td>\n",
       "      <td>9.53</td>\n",
       "    </tr>\n",
       "    <tr>\n",
       "      <th>4</th>\n",
       "      <td>1603649660</td>\n",
       "      <td>46.16</td>\n",
       "      <td>9.53</td>\n",
       "    </tr>\n",
       "  </tbody>\n",
       "</table>\n",
       "</div>"
      ],
      "text/plain": [
       "    TimeStamp  HeartRate  BreathRate\n",
       "0  1603649540      46.16        9.53\n",
       "1  1603649570      46.16        9.53\n",
       "2  1603649600      46.16        9.53\n",
       "3  1603649630      46.16        9.53\n",
       "4  1603649660      46.16        9.53"
      ]
     },
     "execution_count": 71,
     "metadata": {},
     "output_type": "execute_result"
    }
   ],
   "source": [
    "df_day8.head()"
   ]
  },
  {
   "cell_type": "code",
   "execution_count": 72,
   "metadata": {},
   "outputs": [
    {
     "data": {
      "text/plain": [
       "TimeStamp     0\n",
       "HeartRate     0\n",
       "BreathRate    0\n",
       "dtype: int64"
      ]
     },
     "execution_count": 72,
     "metadata": {},
     "output_type": "execute_result"
    }
   ],
   "source": [
    "df_day8.isnull().sum()"
   ]
  },
  {
   "cell_type": "code",
   "execution_count": 73,
   "metadata": {},
   "outputs": [
    {
     "data": {
      "text/html": [
       "<div>\n",
       "<style scoped>\n",
       "    .dataframe tbody tr th:only-of-type {\n",
       "        vertical-align: middle;\n",
       "    }\n",
       "\n",
       "    .dataframe tbody tr th {\n",
       "        vertical-align: top;\n",
       "    }\n",
       "\n",
       "    .dataframe thead th {\n",
       "        text-align: right;\n",
       "    }\n",
       "</style>\n",
       "<table border=\"1\" class=\"dataframe\">\n",
       "  <thead>\n",
       "    <tr style=\"text-align: right;\">\n",
       "      <th></th>\n",
       "      <th>TimeStamp</th>\n",
       "      <th>HeartRate</th>\n",
       "      <th>BreathRate</th>\n",
       "    </tr>\n",
       "  </thead>\n",
       "  <tbody>\n",
       "    <tr>\n",
       "      <th>0</th>\n",
       "      <td>2020-10-25 18:12:20</td>\n",
       "      <td>46.16</td>\n",
       "      <td>9.53</td>\n",
       "    </tr>\n",
       "    <tr>\n",
       "      <th>1</th>\n",
       "      <td>2020-10-25 18:12:50</td>\n",
       "      <td>46.16</td>\n",
       "      <td>9.53</td>\n",
       "    </tr>\n",
       "    <tr>\n",
       "      <th>2</th>\n",
       "      <td>2020-10-25 18:13:20</td>\n",
       "      <td>46.16</td>\n",
       "      <td>9.53</td>\n",
       "    </tr>\n",
       "    <tr>\n",
       "      <th>3</th>\n",
       "      <td>2020-10-25 18:13:50</td>\n",
       "      <td>46.16</td>\n",
       "      <td>9.53</td>\n",
       "    </tr>\n",
       "    <tr>\n",
       "      <th>4</th>\n",
       "      <td>2020-10-25 18:14:20</td>\n",
       "      <td>46.16</td>\n",
       "      <td>9.53</td>\n",
       "    </tr>\n",
       "  </tbody>\n",
       "</table>\n",
       "</div>"
      ],
      "text/plain": [
       "            TimeStamp  HeartRate  BreathRate\n",
       "0 2020-10-25 18:12:20      46.16        9.53\n",
       "1 2020-10-25 18:12:50      46.16        9.53\n",
       "2 2020-10-25 18:13:20      46.16        9.53\n",
       "3 2020-10-25 18:13:50      46.16        9.53\n",
       "4 2020-10-25 18:14:20      46.16        9.53"
      ]
     },
     "execution_count": 73,
     "metadata": {},
     "output_type": "execute_result"
    }
   ],
   "source": [
    "df_day8['TimeStamp'] = df_day8[\"TimeStamp\"].astype(float)\n",
    "df_day8['TimeStamp']= pd.to_datetime(df_day8['TimeStamp'],unit='s')\n",
    "df_day8.head()"
   ]
  },
  {
   "cell_type": "code",
   "execution_count": 74,
   "metadata": {},
   "outputs": [
    {
     "name": "stdout",
     "output_type": "stream",
     "text": [
      "6 6\n"
     ]
    }
   ],
   "source": [
    "hr = df_day8.resample('H',on = 'TimeStamp').HeartRate.sum()\n",
    "br = df_day8.resample('H',on = 'TimeStamp',).BreathRate.sum()\n",
    "print(hr.count(),br.count())"
   ]
  },
  {
   "cell_type": "code",
   "execution_count": 75,
   "metadata": {},
   "outputs": [
    {
     "name": "stdout",
     "output_type": "stream",
     "text": [
      "TimeStamp\n",
      "2020-10-25 18:00:00     7937.65\n",
      "2020-10-25 19:00:00     9887.89\n",
      "2020-10-25 20:00:00    10634.80\n",
      "2020-10-25 21:00:00    10118.44\n",
      "2020-10-25 22:00:00    10761.97\n",
      "Freq: H, Name: HeartRate, dtype: float64\n",
      "TimeStamp\n",
      "2020-10-25 18:00:00    3273.50\n",
      "2020-10-25 19:00:00    3155.71\n",
      "2020-10-25 20:00:00    3422.30\n",
      "2020-10-25 21:00:00    2997.88\n",
      "2020-10-25 22:00:00    3621.91\n",
      "Freq: H, Name: BreathRate, dtype: float64\n"
     ]
    }
   ],
   "source": [
    "print(hr.head())\n",
    "print(br.head())"
   ]
  },
  {
   "cell_type": "code",
   "execution_count": 76,
   "metadata": {},
   "outputs": [
    {
     "data": {
      "text/plain": [
       "<matplotlib.axes._subplots.AxesSubplot at 0x1d4ef2cd8e0>"
      ]
     },
     "execution_count": 76,
     "metadata": {},
     "output_type": "execute_result"
    },
    {
     "data": {
      "image/png": "[encoded data removed]",
      "text/plain": [
       "<Figure size 432x288 with 1 Axes>"
      ]
     },
     "metadata": {
      "needs_background": "light"
     },
     "output_type": "display_data"
    }
   ],
   "source": [
    "hr.plot.bar()"
   ]
  },
  {
   "cell_type": "code",
   "execution_count": 77,
   "metadata": {},
   "outputs": [
    {
     "data": {
      "text/plain": [
       "<matplotlib.axes._subplots.AxesSubplot at 0x1d4ef337be0>"
      ]
     },
     "execution_count": 77,
     "metadata": {},
     "output_type": "execute_result"
    },
    {
     "data": {
      "image/png": "[encoded data removed]",
      "text/plain": [
       "<Figure size 432x288 with 1 Axes>"
      ]
     },
     "metadata": {
      "needs_background": "light"
     },
     "output_type": "display_data"
    }
   ],
   "source": [
    "br.plot.bar()"
   ]
  },
  {
   "cell_type": "code",
   "execution_count": 78,
   "metadata": {},
   "outputs": [],
   "source": [
    "df_day9 = pd.read_csv(\"E:\\Coursera_Work\\Data Analysis Projects\\Dozee\\Data\\csv_9.csv\",delimiter=',')"
   ]
  },
  {
   "cell_type": "code",
   "execution_count": 79,
   "metadata": {},
   "outputs": [
    {
     "data": {
      "text/html": [
       "<div>\n",
       "<style scoped>\n",
       "    .dataframe tbody tr th:only-of-type {\n",
       "        vertical-align: middle;\n",
       "    }\n",
       "\n",
       "    .dataframe tbody tr th {\n",
       "        vertical-align: top;\n",
       "    }\n",
       "\n",
       "    .dataframe thead th {\n",
       "        text-align: right;\n",
       "    }\n",
       "</style>\n",
       "<table border=\"1\" class=\"dataframe\">\n",
       "  <thead>\n",
       "    <tr style=\"text-align: right;\">\n",
       "      <th></th>\n",
       "      <th>TimeStamp</th>\n",
       "      <th>HeartRate</th>\n",
       "      <th>BreathRate</th>\n",
       "    </tr>\n",
       "  </thead>\n",
       "  <tbody>\n",
       "    <tr>\n",
       "      <th>0</th>\n",
       "      <td>1603474356</td>\n",
       "      <td>81.56</td>\n",
       "      <td>9.94</td>\n",
       "    </tr>\n",
       "    <tr>\n",
       "      <th>1</th>\n",
       "      <td>1603474386</td>\n",
       "      <td>81.56</td>\n",
       "      <td>10.83</td>\n",
       "    </tr>\n",
       "    <tr>\n",
       "      <th>2</th>\n",
       "      <td>1603474416</td>\n",
       "      <td>80.17</td>\n",
       "      <td>10.18</td>\n",
       "    </tr>\n",
       "    <tr>\n",
       "      <th>3</th>\n",
       "      <td>1603474446</td>\n",
       "      <td>80.86</td>\n",
       "      <td>17.79</td>\n",
       "    </tr>\n",
       "    <tr>\n",
       "      <th>4</th>\n",
       "      <td>1603474476</td>\n",
       "      <td>77.68</td>\n",
       "      <td>17.79</td>\n",
       "    </tr>\n",
       "  </tbody>\n",
       "</table>\n",
       "</div>"
      ],
      "text/plain": [
       "    TimeStamp  HeartRate  BreathRate\n",
       "0  1603474356      81.56        9.94\n",
       "1  1603474386      81.56       10.83\n",
       "2  1603474416      80.17       10.18\n",
       "3  1603474446      80.86       17.79\n",
       "4  1603474476      77.68       17.79"
      ]
     },
     "execution_count": 79,
     "metadata": {},
     "output_type": "execute_result"
    }
   ],
   "source": [
    "df_day9.head()"
   ]
  },
  {
   "cell_type": "code",
   "execution_count": 80,
   "metadata": {},
   "outputs": [
    {
     "data": {
      "text/plain": [
       "TimeStamp     0\n",
       "HeartRate     0\n",
       "BreathRate    0\n",
       "dtype: int64"
      ]
     },
     "execution_count": 80,
     "metadata": {},
     "output_type": "execute_result"
    }
   ],
   "source": [
    "df_day9.isnull().sum()"
   ]
  },
  {
   "cell_type": "code",
   "execution_count": 81,
   "metadata": {},
   "outputs": [
    {
     "data": {
      "text/html": [
       "<div>\n",
       "<style scoped>\n",
       "    .dataframe tbody tr th:only-of-type {\n",
       "        vertical-align: middle;\n",
       "    }\n",
       "\n",
       "    .dataframe tbody tr th {\n",
       "        vertical-align: top;\n",
       "    }\n",
       "\n",
       "    .dataframe thead th {\n",
       "        text-align: right;\n",
       "    }\n",
       "</style>\n",
       "<table border=\"1\" class=\"dataframe\">\n",
       "  <thead>\n",
       "    <tr style=\"text-align: right;\">\n",
       "      <th></th>\n",
       "      <th>TimeStamp</th>\n",
       "      <th>HeartRate</th>\n",
       "      <th>BreathRate</th>\n",
       "    </tr>\n",
       "  </thead>\n",
       "  <tbody>\n",
       "    <tr>\n",
       "      <th>0</th>\n",
       "      <td>2020-10-23 17:32:36</td>\n",
       "      <td>81.56</td>\n",
       "      <td>9.94</td>\n",
       "    </tr>\n",
       "    <tr>\n",
       "      <th>1</th>\n",
       "      <td>2020-10-23 17:33:06</td>\n",
       "      <td>81.56</td>\n",
       "      <td>10.83</td>\n",
       "    </tr>\n",
       "    <tr>\n",
       "      <th>2</th>\n",
       "      <td>2020-10-23 17:33:36</td>\n",
       "      <td>80.17</td>\n",
       "      <td>10.18</td>\n",
       "    </tr>\n",
       "    <tr>\n",
       "      <th>3</th>\n",
       "      <td>2020-10-23 17:34:06</td>\n",
       "      <td>80.86</td>\n",
       "      <td>17.79</td>\n",
       "    </tr>\n",
       "    <tr>\n",
       "      <th>4</th>\n",
       "      <td>2020-10-23 17:34:36</td>\n",
       "      <td>77.68</td>\n",
       "      <td>17.79</td>\n",
       "    </tr>\n",
       "  </tbody>\n",
       "</table>\n",
       "</div>"
      ],
      "text/plain": [
       "            TimeStamp  HeartRate  BreathRate\n",
       "0 2020-10-23 17:32:36      81.56        9.94\n",
       "1 2020-10-23 17:33:06      81.56       10.83\n",
       "2 2020-10-23 17:33:36      80.17       10.18\n",
       "3 2020-10-23 17:34:06      80.86       17.79\n",
       "4 2020-10-23 17:34:36      77.68       17.79"
      ]
     },
     "execution_count": 81,
     "metadata": {},
     "output_type": "execute_result"
    }
   ],
   "source": [
    "df_day9['TimeStamp'] = df_day9[\"TimeStamp\"].astype(float)\n",
    "df_day9['TimeStamp']= pd.to_datetime(df_day9['TimeStamp'],unit='s')\n",
    "df_day9.head()"
   ]
  },
  {
   "cell_type": "code",
   "execution_count": 82,
   "metadata": {},
   "outputs": [
    {
     "name": "stdout",
     "output_type": "stream",
     "text": [
      "10 10\n"
     ]
    }
   ],
   "source": [
    "hr = df_day9.resample('H',on = 'TimeStamp').HeartRate.sum()\n",
    "br = df_day9.resample('H',on = 'TimeStamp',).BreathRate.sum()\n",
    "print(hr.count(),br.count())"
   ]
  },
  {
   "cell_type": "code",
   "execution_count": 83,
   "metadata": {},
   "outputs": [
    {
     "name": "stdout",
     "output_type": "stream",
     "text": [
      "TimeStamp\n",
      "2020-10-23 17:00:00    4497.70\n",
      "2020-10-23 18:00:00    7754.41\n",
      "2020-10-23 19:00:00    9736.61\n",
      "2020-10-23 20:00:00    8959.69\n",
      "2020-10-23 21:00:00    9533.25\n",
      "Freq: H, Name: HeartRate, dtype: float64\n",
      "TimeStamp\n",
      "2020-10-23 17:00:00     973.00\n",
      "2020-10-23 18:00:00    1597.52\n",
      "2020-10-23 19:00:00    2084.50\n",
      "2020-10-23 20:00:00    2309.17\n",
      "2020-10-23 21:00:00    2105.50\n",
      "Freq: H, Name: BreathRate, dtype: float64\n"
     ]
    }
   ],
   "source": [
    "print(hr.head())\n",
    "print(br.head())"
   ]
  },
  {
   "cell_type": "code",
   "execution_count": 84,
   "metadata": {},
   "outputs": [
    {
     "data": {
      "text/plain": [
       "<matplotlib.axes._subplots.AxesSubplot at 0x1d4ef39d250>"
      ]
     },
     "execution_count": 84,
     "metadata": {},
     "output_type": "execute_result"
    },
    {
     "data": {
      "image/png": "[encoded data removed]",
      "text/plain": [
       "<Figure size 432x288 with 1 Axes>"
      ]
     },
     "metadata": {
      "needs_background": "light"
     },
     "output_type": "display_data"
    }
   ],
   "source": [
    "hr.plot.bar()"
   ]
  },
  {
   "cell_type": "code",
   "execution_count": 85,
   "metadata": {},
   "outputs": [
    {
     "data": {
      "text/plain": [
       "<matplotlib.axes._subplots.AxesSubplot at 0x1d4ef20c520>"
      ]
     },
     "execution_count": 85,
     "metadata": {},
     "output_type": "execute_result"
    },
    {
     "data": {
      "image/png": "[encoded data removed]",
      "text/plain": [
       "<Figure size 432x288 with 1 Axes>"
      ]
     },
     "metadata": {
      "needs_background": "light"
     },
     "output_type": "display_data"
    }
   ],
   "source": [
    "br.plot.bar()"
   ]
  },
  {
   "cell_type": "code",
   "execution_count": 86,
   "metadata": {},
   "outputs": [],
   "source": [
    "df_day10 = pd.read_csv(\"E:\\Coursera_Work\\Data Analysis Projects\\Dozee\\Data\\csv_10.csv\",delimiter=',')"
   ]
  },
  {
   "cell_type": "code",
   "execution_count": 87,
   "metadata": {},
   "outputs": [
    {
     "data": {
      "text/html": [
       "<div>\n",
       "<style scoped>\n",
       "    .dataframe tbody tr th:only-of-type {\n",
       "        vertical-align: middle;\n",
       "    }\n",
       "\n",
       "    .dataframe tbody tr th {\n",
       "        vertical-align: top;\n",
       "    }\n",
       "\n",
       "    .dataframe thead th {\n",
       "        text-align: right;\n",
       "    }\n",
       "</style>\n",
       "<table border=\"1\" class=\"dataframe\">\n",
       "  <thead>\n",
       "    <tr style=\"text-align: right;\">\n",
       "      <th></th>\n",
       "      <th>TimeStamp</th>\n",
       "      <th>HeartRate</th>\n",
       "      <th>BreathRate</th>\n",
       "    </tr>\n",
       "  </thead>\n",
       "  <tbody>\n",
       "    <tr>\n",
       "      <th>0</th>\n",
       "      <td>1603556807</td>\n",
       "      <td>73.81</td>\n",
       "      <td>5.41</td>\n",
       "    </tr>\n",
       "    <tr>\n",
       "      <th>1</th>\n",
       "      <td>1603556837</td>\n",
       "      <td>73.81</td>\n",
       "      <td>18.63</td>\n",
       "    </tr>\n",
       "    <tr>\n",
       "      <th>2</th>\n",
       "      <td>1603556867</td>\n",
       "      <td>73.81</td>\n",
       "      <td>17.36</td>\n",
       "    </tr>\n",
       "    <tr>\n",
       "      <th>3</th>\n",
       "      <td>1603556897</td>\n",
       "      <td>73.81</td>\n",
       "      <td>15.77</td>\n",
       "    </tr>\n",
       "    <tr>\n",
       "      <th>4</th>\n",
       "      <td>1603556927</td>\n",
       "      <td>73.81</td>\n",
       "      <td>15.77</td>\n",
       "    </tr>\n",
       "  </tbody>\n",
       "</table>\n",
       "</div>"
      ],
      "text/plain": [
       "    TimeStamp  HeartRate  BreathRate\n",
       "0  1603556807      73.81        5.41\n",
       "1  1603556837      73.81       18.63\n",
       "2  1603556867      73.81       17.36\n",
       "3  1603556897      73.81       15.77\n",
       "4  1603556927      73.81       15.77"
      ]
     },
     "execution_count": 87,
     "metadata": {},
     "output_type": "execute_result"
    }
   ],
   "source": [
    "df_day10.head()"
   ]
  },
  {
   "cell_type": "code",
   "execution_count": 88,
   "metadata": {},
   "outputs": [
    {
     "data": {
      "text/plain": [
       "TimeStamp     0\n",
       "HeartRate     0\n",
       "BreathRate    0\n",
       "dtype: int64"
      ]
     },
     "execution_count": 88,
     "metadata": {},
     "output_type": "execute_result"
    }
   ],
   "source": [
    "df_day10.isnull().sum()"
   ]
  },
  {
   "cell_type": "code",
   "execution_count": 89,
   "metadata": {},
   "outputs": [
    {
     "data": {
      "text/html": [
       "<div>\n",
       "<style scoped>\n",
       "    .dataframe tbody tr th:only-of-type {\n",
       "        vertical-align: middle;\n",
       "    }\n",
       "\n",
       "    .dataframe tbody tr th {\n",
       "        vertical-align: top;\n",
       "    }\n",
       "\n",
       "    .dataframe thead th {\n",
       "        text-align: right;\n",
       "    }\n",
       "</style>\n",
       "<table border=\"1\" class=\"dataframe\">\n",
       "  <thead>\n",
       "    <tr style=\"text-align: right;\">\n",
       "      <th></th>\n",
       "      <th>TimeStamp</th>\n",
       "      <th>HeartRate</th>\n",
       "      <th>BreathRate</th>\n",
       "    </tr>\n",
       "  </thead>\n",
       "  <tbody>\n",
       "    <tr>\n",
       "      <th>0</th>\n",
       "      <td>2020-10-24 16:26:47</td>\n",
       "      <td>73.81</td>\n",
       "      <td>5.41</td>\n",
       "    </tr>\n",
       "    <tr>\n",
       "      <th>1</th>\n",
       "      <td>2020-10-24 16:27:17</td>\n",
       "      <td>73.81</td>\n",
       "      <td>18.63</td>\n",
       "    </tr>\n",
       "    <tr>\n",
       "      <th>2</th>\n",
       "      <td>2020-10-24 16:27:47</td>\n",
       "      <td>73.81</td>\n",
       "      <td>17.36</td>\n",
       "    </tr>\n",
       "    <tr>\n",
       "      <th>3</th>\n",
       "      <td>2020-10-24 16:28:17</td>\n",
       "      <td>73.81</td>\n",
       "      <td>15.77</td>\n",
       "    </tr>\n",
       "    <tr>\n",
       "      <th>4</th>\n",
       "      <td>2020-10-24 16:28:47</td>\n",
       "      <td>73.81</td>\n",
       "      <td>15.77</td>\n",
       "    </tr>\n",
       "  </tbody>\n",
       "</table>\n",
       "</div>"
      ],
      "text/plain": [
       "            TimeStamp  HeartRate  BreathRate\n",
       "0 2020-10-24 16:26:47      73.81        5.41\n",
       "1 2020-10-24 16:27:17      73.81       18.63\n",
       "2 2020-10-24 16:27:47      73.81       17.36\n",
       "3 2020-10-24 16:28:17      73.81       15.77\n",
       "4 2020-10-24 16:28:47      73.81       15.77"
      ]
     },
     "execution_count": 89,
     "metadata": {},
     "output_type": "execute_result"
    }
   ],
   "source": [
    "df_day10['TimeStamp'] = df_day10[\"TimeStamp\"].astype(float)\n",
    "df_day10['TimeStamp']= pd.to_datetime(df_day10['TimeStamp'],unit='s')\n",
    "df_day10.head()"
   ]
  },
  {
   "cell_type": "code",
   "execution_count": 90,
   "metadata": {},
   "outputs": [
    {
     "name": "stdout",
     "output_type": "stream",
     "text": [
      "11 11\n",
      "TimeStamp\n",
      "2020-10-24 16:00:00    5645.93\n",
      "2020-10-24 17:00:00    9333.04\n",
      "2020-10-24 18:00:00    9638.92\n",
      "2020-10-24 19:00:00    9570.56\n",
      "2020-10-24 20:00:00    9180.02\n",
      "Freq: H, Name: HeartRate, dtype: float64\n",
      "TimeStamp\n",
      "2020-10-24 16:00:00    1229.21\n",
      "2020-10-24 17:00:00    2069.58\n",
      "2020-10-24 18:00:00    1806.86\n",
      "2020-10-24 19:00:00    1879.52\n",
      "2020-10-24 20:00:00    1918.33\n",
      "Freq: H, Name: BreathRate, dtype: float64\n"
     ]
    }
   ],
   "source": [
    "hr = df_day10.resample('H',on = 'TimeStamp').HeartRate.sum()\n",
    "br = df_day10.resample('H',on = 'TimeStamp',).BreathRate.sum()\n",
    "print(hr.count(),br.count())\n",
    "print(hr.head())\n",
    "print(br.head())"
   ]
  },
  {
   "cell_type": "code",
   "execution_count": 91,
   "metadata": {},
   "outputs": [
    {
     "data": {
      "text/plain": [
       "<matplotlib.axes._subplots.AxesSubplot at 0x1d4ef45a520>"
      ]
     },
     "execution_count": 91,
     "metadata": {},
     "output_type": "execute_result"
    },
    {
     "data": {
      "image/png": "[encoded data removed]",
      "text/plain": [
       "<Figure size 432x288 with 1 Axes>"
      ]
     },
     "metadata": {
      "needs_background": "light"
     },
     "output_type": "display_data"
    }
   ],
   "source": [
    "hr.plot.bar()"
   ]
  },
  {
   "cell_type": "code",
   "execution_count": 92,
   "metadata": {},
   "outputs": [
    {
     "data": {
      "text/plain": [
       "<matplotlib.axes._subplots.AxesSubplot at 0x1d4ef4d3700>"
      ]
     },
     "execution_count": 92,
     "metadata": {},
     "output_type": "execute_result"
    },
    {
     "data": {
      "image/png": "[encoded data removed]",
      "text/plain": [
       "<Figure size 432x288 with 1 Axes>"
      ]
     },
     "metadata": {
      "needs_background": "light"
     },
     "output_type": "display_data"
    }
   ],
   "source": [
    "br.plot.bar()"
   ]
  },
  {
   "cell_type": "markdown",
   "metadata": {},
   "source": [
    "# Task 2"
   ]
  },
  {
   "cell_type": "code",
   "execution_count": 93,
   "metadata": {},
   "outputs": [
    {
     "data": {
      "text/plain": [
       "<function matplotlib.pyplot.show(*args, **kw)>"
      ]
     },
     "execution_count": 93,
     "metadata": {},
     "output_type": "execute_result"
    },
    {
     "data": {
      "image/png": "[encoded data removed]",
      "text/plain": [
       "<Figure size 432x288 with 1 Axes>"
      ]
     },
     "metadata": {},
     "output_type": "display_data"
    }
   ],
   "source": [
    "day = [\"day1\",\"day2\",\"day3\",\"day4\",\"day5\",\"day6\",\"day7\",\"day8\",\"day9\",\"day10\"]\n",
    "sleep_hours = [9,7,7,11,7,10,9,6,10,11]\n",
    "fig = plt.figure()\n",
    "ax = fig.add_axes([0,0,1,1])\n",
    "ax.axis('equal')\n",
    "ax.pie(sleep_hours,labels = day,autopct='%1.2f%%')\n",
    "plt.show"
   ]
  },
  {
   "cell_type": "markdown",
   "metadata": {},
   "source": [
    "# Sleep cycle of a person for 10 Days.\n",
    "\n",
    "## Divding classes based on no of sleep hours.\n",
    "\n",
    "**The Breating Rate and HeartRate depicts same graph,hence revealing a direct relation between both the variables**\n",
    "**Normal breathing rate of a healthy person per hour is between 1200-1500 in a relaxed (Sleeping State)**\n",
    "**Normal Heart rate of a healthy person per hour is between 3000-4000 in a relaxed (sleeping State)**\n",
    "*while sleeping, your oxygen levels are lower and your carbon dioxide levels are higher because your level of breathing goes slightly down.*\n",
    "\n",
    "- 6 Hours - At day 8 : The HeartRate and Breathing Rate were above normal.\n",
    "- 7 Hours - At day 2,3 and 5: The heartbeat and Breathrate were above normal.           \n",
    "- 9 Hours - At day 1 & 7 : The heartbeat and Breathrate were above normal.\n",
    "- 10 Hours- At day 6 & 9 : The heartbeat rate were above normal, but breathing was normal.\n",
    "- 11 Hours- At day 4 & 10 : The heartbeat and Breath rate were above normal.\n",
    "\n",
    "\n",
    "The Conclusion is that the person might have some irreguralities in his sleep, and might be at a risk of serious illness.\n"
   ]
  },
  {
   "cell_type": "code",
   "execution_count": null,
   "metadata": {},
   "outputs": [],
   "source": []
  }
 ],
 "metadata": {
  "kernelspec": {
   "display_name": "Python 3",
   "language": "python",
   "name": "python3"
  },
  "language_info": {
   "codemirror_mode": {
    "name": "ipython",
    "version": 3
   },
   "file_extension": ".py",
   "mimetype": "text/x-python",
   "name": "python",
   "nbconvert_exporter": "python",
   "pygments_lexer": "ipython3",
   "version": "3.8.3"
  }
 },
 "nbformat": 4,
 "nbformat_minor": 4
}
